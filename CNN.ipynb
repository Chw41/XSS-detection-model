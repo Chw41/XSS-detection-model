{
 "cells": [
  {
   "cell_type": "code",
   "execution_count": 96,
   "metadata": {},
   "outputs": [],
   "source": [
    "# Import Libraries\n",
    "import numpy as np\n",
    "import pandas as pd\n",
    "import matplotlib.pyplot as plt\n",
    "import cv2\n",
    "import torch\n",
    "import torch.nn as nn\n",
    "import torch.optim as optim\n",
    "from torch.utils.data import DataLoader, Dataset  \n",
    "from sklearn.model_selection import train_test_split\n",
    "from sklearn.metrics import confusion_matrix, accuracy_score, precision_score, recall_score, f1_score"
   ]
  },
  {
   "cell_type": "code",
   "execution_count": 97,
   "metadata": {},
   "outputs": [],
   "source": [
    "# Load Dataset\n",
    "df = pd.read_csv('dataset/XSS_dataset.csv', encoding='utf-8-sig')\n",
    "df = df[df.columns[-2:]]  # Only get sentence and labels"
   ]
  },
  {
   "cell_type": "code",
   "execution_count": 98,
   "metadata": {},
   "outputs": [],
   "source": [
    "# Get Sentences data from data frame\n",
    "sentences = df['Sentence'].values\n",
    "labels = df['Label'].values\n"
   ]
  },
  {
   "cell_type": "code",
   "execution_count": 99,
   "metadata": {},
   "outputs": [],
   "source": [
    "# Convert to ASCII\n",
    "def convert_to_ascii(sentence):\n",
    "    sentence_ascii = []\n",
    "    for char in sentence:\n",
    "        if ord(char) < 8222:\n",
    "            if ord(char) == 8217:  # ’\n",
    "                sentence_ascii.append(134)\n",
    "            elif ord(char) == 8221:  # ”\n",
    "                sentence_ascii.append(129)\n",
    "            elif ord(char) == 8220:  # “\n",
    "                sentence_ascii.append(130)\n",
    "            elif ord(char) == 8216:  # ‘\n",
    "                sentence_ascii.append(131)\n",
    "            elif ord(char) == 8211:  # –\n",
    "                sentence_ascii.append(133)\n",
    "            if ord(char) <= 128:\n",
    "                sentence_ascii.append(ord(char))\n",
    "    zer = np.zeros((10000,))\n",
    "    for i in range(len(sentence_ascii)):\n",
    "        zer[i] = sentence_ascii[i]\n",
    "    zer.shape = (100, 100)\n",
    "    return zer\n"
   ]
  },
  {
   "cell_type": "code",
   "execution_count": 100,
   "metadata": {},
   "outputs": [
    {
     "data": {
      "image/png": "[encoded data removed]",
      "text/plain": [
       "<Figure size 640x480 with 1 Axes>"
      ]
     },
     "metadata": {},
     "output_type": "display_data"
    },
    {
     "data": {
      "image/png": "[encoded data removed]",
      "text/plain": [
       "<Figure size 640x480 with 1 Axes>"
      ]
     },
     "metadata": {},
     "output_type": "display_data"
    }
   ],
   "source": [
    "# Prepare Data\n",
    "arr = np.zeros((len(sentences), 100, 100))\n",
    "for i in range(len(sentences)):\n",
    "    image = convert_to_ascii(sentences[i])\n",
    "    x = np.asarray(image, dtype='float')\n",
    "    image = cv2.resize(x, dsize=(100, 100), interpolation=cv2.INTER_CUBIC)\n",
    "    image /= 128\n",
    "    arr[i] = image\n",
    "\n",
    "# Show the first two images in the data array\n",
    "for i in range(2):\n",
    "    plt.imshow(arr[i], cmap='gray')\n",
    "    plt.title(f'Image {i + 1}')\n",
    "    plt.show()"
   ]
  },
  {
   "cell_type": "code",
   "execution_count": 101,
   "metadata": {},
   "outputs": [],
   "source": [
    "# Reshape data for input to CNN\n",
    "data = arr.reshape(arr.shape[0], 1, 100, 100)"
   ]
  },
  {
   "cell_type": "code",
   "execution_count": 102,
   "metadata": {},
   "outputs": [],
   "source": [
    "# Create PyTorch Dataset\n",
    "class XSSDataset(Dataset):\n",
    "    def __init__(self, data, labels):\n",
    "        self.data = data\n",
    "        self.labels = labels\n",
    "\n",
    "    def __len__(self):\n",
    "        return len(self.labels)\n",
    "\n",
    "    def __getitem__(self, idx):\n",
    "        return self.data[idx], self.labels[idx]\n"
   ]
  },
  {
   "cell_type": "code",
   "execution_count": 104,
   "metadata": {},
   "outputs": [],
   "source": [
    "# Split data: train 70%, verify 20%, test 10%\n",
    "train_data, temp_data, train_labels, temp_labels = train_test_split(data, labels, test_size=0.3, random_state=42)\n",
    "verify_data, test_data, verify_labels, test_labels = train_test_split(temp_data, temp_labels, test_size=1/3, random_state=42)\n",
    "\n",
    "train_dataset = XSSDataset(train_data, train_labels)\n",
    "verify_dataset = XSSDataset(verify_data, verify_labels)\n",
    "test_dataset = XSSDataset(test_data, test_labels)\n",
    "\n",
    "train_loader = DataLoader(train_dataset, batch_size=128, shuffle=True)\n",
    "verify_loader = DataLoader(verify_dataset, batch_size=128, shuffle=False)\n",
    "test_loader = DataLoader(test_dataset, batch_size=128, shuffle=False)"
   ]
  },
  {
   "cell_type": "code",
   "execution_count": 103,
   "metadata": {},
   "outputs": [],
   "source": [
    "# Define CNN Model\n",
    "class CNNModel(nn.Module):\n",
    "    def __init__(self):\n",
    "        super(CNNModel, self).__init__()\n",
    "        self.conv1 = nn.Conv2d(1, 64, kernel_size=3, padding=1)\n",
    "        self.pool = nn.MaxPool2d(kernel_size=2, stride=2)\n",
    "        self.conv2 = nn.Conv2d(64, 128, kernel_size=3, padding=1)\n",
    "        self.conv3 = nn.Conv2d(128, 256, kernel_size=3, padding=1)\n",
    "        self.fc1 = nn.Linear(256 * 12 * 12, 256)\n",
    "        self.fc2 = nn.Linear(256, 128)\n",
    "        self.fc3 = nn.Linear(128, 64)\n",
    "        self.fc4 = nn.Linear(64, 1)\n",
    "        self.sigmoid = nn.Sigmoid()\n",
    "\n",
    "    def forward(self, x):\n",
    "        x = self.pool(nn.ReLU()(self.conv1(x)))\n",
    "        x = self.pool(nn.ReLU()(self.conv2(x)))\n",
    "        x = self.pool(nn.ReLU()(self.conv3(x)))\n",
    "        x = x.view(x.size(0), -1)\n",
    "        x = nn.ReLU()(self.fc1(x))\n",
    "        x = nn.ReLU()(self.fc2(x))\n",
    "        x = nn.ReLU()(self.fc3(x))\n",
    "        x = self.sigmoid(self.fc4(x))\n",
    "        return x\n"
   ]
  },
  {
   "cell_type": "code",
   "execution_count": 105,
   "metadata": {},
   "outputs": [
    {
     "name": "stdout",
     "output_type": "stream",
     "text": [
      "\n",
      "Training with learning rate: 0.001\n",
      "Epoch [1/20], Training Loss: 0.4771, Verify Loss: 0.3441\n",
      "Epoch [2/20], Training Loss: 0.3237, Verify Loss: 0.1678\n",
      "Epoch [3/20], Training Loss: 0.1236, Verify Loss: 0.0996\n"
     ]
    }
   ],
   "source": [
    "# Train and test with different learning rates\n",
    "learning_rates = [0.001, 0.002, 0.01, 0.02, 0.05]\n",
    "num_epochs = 20\n",
    "all_loss_train = []\n",
    "all_loss_verify = []\n",
    "\n",
    "for lr in learning_rates:\n",
    "    print(f\"\\nTraining with learning rate: {lr}\")\n",
    "    model = CNNModel()\n",
    "    criterion = nn.BCELoss()\n",
    "    optimizer = optim.Adam(model.parameters(), lr=lr)\n",
    "\n",
    "    loss_train = []\n",
    "    loss_verify = []\n",
    "\n",
    "    for epoch in range(num_epochs):\n",
    "        model.train()\n",
    "        epoch_loss = 0\n",
    "        for inputs, labels in train_loader:\n",
    "            optimizer.zero_grad()\n",
    "            outputs = model(inputs.float())\n",
    "            loss = criterion(outputs.squeeze(), labels.float())\n",
    "            loss.backward()\n",
    "            optimizer.step()\n",
    "            epoch_loss += loss.item()\n",
    "        loss_train.append(epoch_loss / len(train_loader))\n",
    "\n",
    "        # Validation loss\n",
    "        model.eval()\n",
    "        verify_loss = 0\n",
    "        with torch.no_grad():\n",
    "            for inputs, labels in verify_loader:\n",
    "                outputs = model(inputs.float())\n",
    "                loss = criterion(outputs.squeeze(), labels.float())\n",
    "                verify_loss += loss.item()\n",
    "        loss_verify.append(verify_loss / len(verify_loader))\n",
    "\n",
    "        print(f\"Epoch [{epoch+1}/{num_epochs}], Training Loss: {loss_train[-1]:.4f}, Verify Loss: {loss_verify[-1]:.4f}\")\n",
    "\n",
    "    all_loss_train.append(loss_train)\n",
    "    all_loss_verify.append(loss_verify)\n"
   ]
  },
  {
   "cell_type": "code",
   "execution_count": null,
   "metadata": {},
   "outputs": [],
   "source": [
    "# Plot training and verify loss for each learning rate\n",
    "for i, lr in enumerate(learning_rates):\n",
    "    plt.plot(all_loss_train[i], label=f'Train Loss (lr={lr})')\n",
    "    plt.plot(all_loss_verify[i], label=f'Verify Loss (lr={lr})')\n",
    "    plt.xlabel('Epoch')\n",
    "    plt.ylabel('Loss')\n",
    "    plt.legend()\n",
    "    plt.title(f'Loss Curves for learning rate = {lr}')\n",
    "    plt.show()"
   ]
  },
  {
   "cell_type": "code",
   "execution_count": null,
   "metadata": {},
   "outputs": [
    {
     "name": "stdout",
     "output_type": "stream",
     "text": [
      "Epoch [1/4], Loss: 0.4470\n",
      "Epoch [2/4], Loss: 0.0826\n",
      "Epoch [3/4], Loss: 0.0829\n",
      "Epoch [4/4], Loss: 0.0243\n"
     ]
    }
   ],
   "source": [
    "# Prediction on test data\n",
    "model.eval()\n",
    "predictions = []\n",
    "with torch.no_grad():\n",
    "    for inputs, labels in test_loader:\n",
    "        outputs = model(inputs.float())\n",
    "        predictions.extend(outputs.squeeze().round().numpy())"
   ]
  },
  {
   "cell_type": "code",
   "execution_count": null,
   "metadata": {},
   "outputs": [
    {
     "name": "stdout",
     "output_type": "stream",
     "text": [
      "Accuracy:  0.9726077428780131\n",
      "Precision:  0.9636483807005949\n",
      "Recall:  0.986468200270636\n",
      "Confusion Matrix: \n",
      " [[1205   55]\n",
      " [  20 1458]]\n"
     ]
    }
   ],
   "source": [
    "# Evaluate the model\n",
    "accuracy = accuracy_score(test_labels, predictions)\n",
    "precision = precision_score(test_labels, predictions)\n",
    "recall = recall_score(test_labels, predictions)\n",
    "f1 = f1_score(test_labels, predictions)\n",
    "confusion = confusion_matrix(test_labels, predictions)\n",
    "\n",
    "print(\"Accuracy: \", accuracy)\n",
    "print(\"Precision: \", precision)\n",
    "print(\"Recall: \", recall)\n",
    "print(\"F1 Score: \", f1)\n",
    "print(\"Confusion Matrix: \\n\", confusion)"
   ]
  }
 ],
 "metadata": {
  "kernelspec": {
   "display_name": "Python 3 (ipykernel)",
   "language": "python",
   "name": "python3"
  },
  "language_info": {
   "codemirror_mode": {
    "name": "ipython",
    "version": 3
   },
   "file_extension": ".py",
   "mimetype": "text/x-python",
   "name": "python",
   "nbconvert_exporter": "python",
   "pygments_lexer": "ipython3",
   "version": "3.12.3"
  }
 },
 "nbformat": 4,
 "nbformat_minor": 2
}
