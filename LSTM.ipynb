{
 "cells": [
  {
   "cell_type": "code",
   "execution_count": 1,
   "metadata": {
    "execution": {
     "iopub.execute_input": "2024-11-04T15:03:24.659425Z",
     "iopub.status.busy": "2024-11-04T15:03:24.659232Z",
     "iopub.status.idle": "2024-11-04T15:03:26.194283Z",
     "shell.execute_reply": "2024-11-04T15:03:26.193976Z"
    }
   },
   "outputs": [],
   "source": [
    "# Import necessary libraries\n",
    "import pandas as pd\n",
    "import torch\n",
    "import torch.nn as nn\n",
    "from torch.utils.data import Dataset, DataLoader\n",
    "from collections import Counter\n",
    "import re\n",
    "from typing import List, Tuple\n",
    "from sklearn.metrics import f1_score"
   ]
  },
  {
   "cell_type": "code",
   "execution_count": 2,
   "metadata": {
    "execution": {
     "iopub.execute_input": "2024-11-04T15:03:26.195928Z",
     "iopub.status.busy": "2024-11-04T15:03:26.195607Z",
     "iopub.status.idle": "2024-11-04T15:03:26.198018Z",
     "shell.execute_reply": "2024-11-04T15:03:26.197715Z"
    }
   },
   "outputs": [],
   "source": [
    "# Import necessary libraries\n",
    "import pandas as pd\n",
    "import torch\n",
    "import torch.nn as nn\n",
    "from torch.utils.data import Dataset, DataLoader\n",
    "from collections import Counter\n",
    "import re\n",
    "from typing import List, Tuple\n",
    "from sklearn.metrics import f1_score"
   ]
  },
  {
   "cell_type": "code",
   "execution_count": 3,
   "metadata": {
    "execution": {
     "iopub.execute_input": "2024-11-04T15:03:26.199117Z",
     "iopub.status.busy": "2024-11-04T15:03:26.198982Z",
     "iopub.status.idle": "2024-11-04T15:03:26.203765Z",
     "shell.execute_reply": "2024-11-04T15:03:26.203443Z"
    }
   },
   "outputs": [],
   "source": [
    "# Preprocessing class for handling text data\n",
    "class TextPreprocessor:\n",
    "    def __init__(self, max_len: int = 100):\n",
    "        self.max_len = max_len\n",
    "        self.vocab = {'<PAD>': 0, '<UNK>': 1}  # Initial vocabulary with padding and unknown tokens\n",
    "        self.vocab_size = 2\n",
    "    \n",
    "    def tokenize(self, text: str) -> List[str]:\n",
    "        \"\"\"Tokenize HTML text into meaningful components.\"\"\"\n",
    "        # Separate HTML tags and attributes\n",
    "        text = re.sub(r'([<>/=\"])', r' \\1 ', text)\n",
    "        # Remove extra whitespace\n",
    "        text = ' '.join(text.split())\n",
    "        return text.lower().split()\n",
    "    \n",
    "    def build_vocab(self, texts: List[str], min_freq: int = 2):\n",
    "        \"\"\"Build vocabulary with common tokens\"\"\"\n",
    "        counter = Counter()\n",
    "        for text in texts:\n",
    "            tokens = self.tokenize(text)\n",
    "            counter.update(tokens)\n",
    "        \n",
    "        # Add words meeting the minimum frequency threshold\n",
    "        for word, freq in counter.items():\n",
    "            if freq >= min_freq and word not in self.vocab:\n",
    "                self.vocab[word] = self.vocab_size\n",
    "                self.vocab_size += 1\n",
    "    \n",
    "    def encode_text(self, text: str) -> List[int]:\n",
    "        \"\"\"Convert text to integer sequence\"\"\"\n",
    "        tokens = self.tokenize(text)\n",
    "        # Truncate or pad to specified length\n",
    "        if len(tokens) > self.max_len:\n",
    "            tokens = tokens[:self.max_len]\n",
    "        else:\n",
    "            tokens.extend(['<PAD>'] * (self.max_len - len(tokens)))\n",
    "        \n",
    "        return [self.vocab.get(token, self.vocab['<UNK>']) for token in tokens]\n"
   ]
  },
  {
   "cell_type": "code",
   "execution_count": 4,
   "metadata": {
    "execution": {
     "iopub.execute_input": "2024-11-04T15:03:26.204838Z",
     "iopub.status.busy": "2024-11-04T15:03:26.204691Z",
     "iopub.status.idle": "2024-11-04T15:03:26.207725Z",
     "shell.execute_reply": "2024-11-04T15:03:26.207423Z"
    }
   },
   "outputs": [],
   "source": [
    "# Custom Dataset class for XSS data\n",
    "class XSSDataset(Dataset):\n",
    "    def __init__(self, texts: List[str], labels: List[int], preprocessor: TextPreprocessor):\n",
    "        self.preprocessor = preprocessor\n",
    "        self.encodings = [self.preprocessor.encode_text(text) for text in texts]\n",
    "        self.labels = labels\n",
    "        self.has_printed = False\n",
    "\n",
    "    def __len__(self):\n",
    "        return len(self.labels)\n",
    "\n",
    "    def __getitem__(self, idx) -> Tuple[torch.Tensor, torch.Tensor]:\n",
    "        if idx < 3 and not self.has_printed:\n",
    "            print(f\"Preprocessed input {idx}: {self.encodings[idx]}\")\n",
    "            self.has_printed = True\n",
    "        return (torch.tensor(self.encodings[idx], dtype=torch.long),\n",
    "                torch.tensor(self.labels[idx], dtype=torch.float))"
   ]
  },
  {
   "cell_type": "code",
   "execution_count": 5,
   "metadata": {
    "execution": {
     "iopub.execute_input": "2024-11-04T15:03:26.208756Z",
     "iopub.status.busy": "2024-11-04T15:03:26.208617Z",
     "iopub.status.idle": "2024-11-04T15:03:26.211951Z",
     "shell.execute_reply": "2024-11-04T15:03:26.211641Z"
    }
   },
   "outputs": [],
   "source": [
    "# LSTM model class for XSS detection\n",
    "class XSSDetectorLSTM(nn.Module):\n",
    "    def __init__(self, vocab_size: int, embedding_dim: int = 50, \n",
    "                 hidden_dim: int = 64, num_layers: int = 2, dropout: float = 0.2):\n",
    "        super().__init__()\n",
    "        \n",
    "        self.embedding = nn.Embedding(vocab_size, embedding_dim, padding_idx=0)\n",
    "        self.lstm = nn.LSTM(\n",
    "            embedding_dim,\n",
    "            hidden_dim,\n",
    "            num_layers=num_layers,\n",
    "            batch_first=True,\n",
    "            dropout=dropout if num_layers > 1 else 0,\n",
    "            bidirectional=True\n",
    "        )\n",
    "        self.fc1 = nn.Linear(hidden_dim * 2, 32)\n",
    "        self.fc2 = nn.Linear(32, 1)\n",
    "        self.dropout = nn.Dropout(dropout)\n",
    "        \n",
    "    def forward(self, x):\n",
    "        embedded = self.embedding(x)\n",
    "        lstm_out, (hidden, _) = self.lstm(embedded)\n",
    "        \n",
    "        # Use the last time step's hidden state\n",
    "        hidden = torch.cat((hidden[-2,:,:], hidden[-1,:,:]), dim=1)\n",
    "        out = self.dropout(hidden)\n",
    "        out = torch.relu(self.fc1(out))\n",
    "        out = torch.sigmoid(self.fc2(out))\n",
    "        return out"
   ]
  },
  {
   "cell_type": "code",
   "execution_count": 6,
   "metadata": {
    "execution": {
     "iopub.execute_input": "2024-11-04T15:03:26.213004Z",
     "iopub.status.busy": "2024-11-04T15:03:26.212867Z",
     "iopub.status.idle": "2024-11-04T15:03:26.220394Z",
     "shell.execute_reply": "2024-11-04T15:03:26.220038Z"
    }
   },
   "outputs": [],
   "source": [
    "# Detector class to handle training and prediction\n",
    "class XSSDetector:\n",
    "    def __init__(self, max_len: int = 100, device: str = None):\n",
    "        if device is None:\n",
    "            self.device = torch.device('cuda' if torch.cuda.is_available() else 'cpu')\n",
    "        else:\n",
    "            self.device = torch.device(device)\n",
    "        \n",
    "        self.max_len = max_len\n",
    "        self.preprocessor = TextPreprocessor(max_len)\n",
    "        self.model = None\n",
    "        self.training_losses = []\n",
    "        self.validation_losses = []\n",
    "    \n",
    "    def train(self, texts: List[str], labels: List[int], \n",
    "              epochs: int = 20, batch_size: int = 32, learning_rates: List[float] = [0.001, 0.002, 0.01, 0.02, 0.05],\n",
    "              val_split: float = 0.1):\n",
    "        \n",
    "        # Build vocabulary and create dataset as before...\n",
    "        self.preprocessor.build_vocab(texts)\n",
    "        dataset = XSSDataset(texts, labels, self.preprocessor)\n",
    "        \n",
    "        # Split dataset and create loaders...\n",
    "        val_size = int(len(dataset) * 0.2)\n",
    "        test_size = int(len(dataset) * 0.1)\n",
    "        train_size = len(dataset) - val_size - test_size\n",
    "\n",
    "        train_dataset, val_dataset, test_dataset = torch.utils.data.random_split(\n",
    "            dataset, [train_size, val_size, test_size]\n",
    "        )\n",
    "\n",
    "        train_loader = DataLoader(train_dataset, batch_size=batch_size, shuffle=True)\n",
    "        val_loader = DataLoader(val_dataset, batch_size=batch_size)\n",
    "        test_loader = DataLoader(test_dataset, batch_size=batch_size)\n",
    "        \n",
    "        # Initialize model...\n",
    "        self.model = XSSDetectorLSTM(\n",
    "            vocab_size=self.preprocessor.vocab_size,\n",
    "            embedding_dim=50\n",
    "        ).to(self.device)\n",
    "        \n",
    "        for lr in learning_rates:\n",
    "            print(f\"Training with learning rate: {lr}\")\n",
    "\n",
    "            optimizer = torch.optim.Adam(self.model.parameters(), lr=lr)\n",
    "            criterion = nn.BCELoss()\n",
    "            \n",
    "            # Lists to store losses\n",
    "            self.training_losses = []\n",
    "            self.validation_losses = []\n",
    "            \n",
    "            # Training loop\n",
    "            for epoch in range(epochs):\n",
    "                self.model.train()\n",
    "                total_loss = 0\n",
    "                correct = 0\n",
    "                total = 0\n",
    "                \n",
    "                for batch_sequences, batch_labels in train_loader:\n",
    "                    batch_sequences = batch_sequences.to(self.device)\n",
    "                    batch_labels = batch_labels.to(self.device)\n",
    "                    \n",
    "                    optimizer.zero_grad()\n",
    "                    outputs = self.model(batch_sequences).squeeze()\n",
    "                    loss = criterion(outputs, batch_labels)\n",
    "                    loss.backward()\n",
    "                    optimizer.step()\n",
    "                    \n",
    "                    total_loss += loss.item()\n",
    "                    \n",
    "                    predictions = (outputs >= 0.5).float()\n",
    "                    correct += (predictions == batch_labels).sum().item()\n",
    "                    total += len(batch_labels)\n",
    "                \n",
    "                # Calculate average training loss for this epoch\n",
    "                avg_train_loss = total_loss / len(train_loader)\n",
    "                self.training_losses.append(avg_train_loss)\n",
    "                \n",
    "                # Validation\n",
    "                self.model.eval()\n",
    "                val_loss = 0\n",
    "                val_correct = 0\n",
    "                val_total = 0\n",
    "                val_predictions = []\n",
    "                val_true_labels = []\n",
    "\n",
    "                with torch.no_grad():\n",
    "                    for batch_sequences, batch_labels in val_loader:\n",
    "                        batch_sequences = batch_sequences.to(self.device)\n",
    "                        batch_labels = batch_labels.to(self.device)\n",
    "                        \n",
    "                        outputs = self.model(batch_sequences).squeeze()\n",
    "                        val_loss += criterion(outputs, batch_labels).item()\n",
    "                        \n",
    "                        predictions = (outputs >= 0.5).float()\n",
    "                        val_correct += (predictions == batch_labels).sum().item()\n",
    "                        val_total += len(batch_labels)\n",
    "\n",
    "                        val_predictions.extend(predictions.cpu().numpy())\n",
    "                        val_true_labels.extend(batch_labels.cpu().numpy())\n",
    "\n",
    "                # Calculate average validation loss for this epoch\n",
    "                avg_val_loss = val_loss / len(val_loader)\n",
    "                self.validation_losses.append(avg_val_loss)\n",
    "\n",
    "                val_f1 = f1_score(val_true_labels, val_predictions)\n",
    "\n",
    "                print(f'Epoch {epoch+1}/{epochs}:')\n",
    "                print(f'Training Loss: {avg_train_loss:.4f}')\n",
    "                print(f'Training Accuracy: {100*correct/total:.2f}%')\n",
    "                print(f'Validation Loss: {avg_val_loss:.4f}')\n",
    "                print(f'Validation Accuracy: {100*val_correct/val_total:.2f}%')\n",
    "                print(f'Validation F1 Score: {val_f1:.4f}')"
   ]
  },
  {
   "cell_type": "code",
   "execution_count": 7,
   "metadata": {
    "execution": {
     "iopub.execute_input": "2024-11-04T15:03:26.221525Z",
     "iopub.status.busy": "2024-11-04T15:03:26.221373Z",
     "iopub.status.idle": "2024-11-04T15:03:26.224844Z",
     "shell.execute_reply": "2024-11-04T15:03:26.224530Z"
    }
   },
   "outputs": [],
   "source": [
    "# Function to demonstrate the detector with example inputs\n",
    "def demo_detector():\n",
    "    # Load dataset\n",
    "    data = pd.read_csv('dataset/XSS_dataset.csv')\n",
    "    texts = data['Sentence'].tolist()\n",
    "    labels = data['Label'].tolist()\n",
    "    \n",
    "    # Initialize detector\n",
    "    detector = XSSDetector(max_len=100)\n",
    "    \n",
    "    # Train model\n",
    "    detector.train(\n",
    "        texts=texts,\n",
    "        labels=labels,\n",
    "        epochs=20,\n",
    "        batch_size=32,\n",
    "        learning_rates=[0.001, 0.002, 0.01, 0.02, 0.05]\n",
    "    )\n",
    "\n",
    "    # Plot training and validation losses\n",
    "    import matplotlib.pyplot as plt\n",
    "\n",
    "    plt.figure(figsize=(10, 6))\n",
    "    plt.plot(range(1, len(detector.training_losses) + 1), detector.training_losses, label='Training Loss')\n",
    "    plt.plot(range(1, len(detector.validation_losses) + 1), detector.validation_losses, label='Validation Loss')\n",
    "    plt.xlabel('Epoch')\n",
    "    plt.ylabel('Loss')\n",
    "    plt.title('Training and Validation Loss Over Time')\n",
    "    plt.legend()\n",
    "    plt.grid(True)\n",
    "    plt.show()\n",
    "\n",
    "    # Test with some example cases\n",
    "    test_cases = [\n",
    "        \"<script>alert(1)</script>\",\n",
    "        \"<img src='x' onerror='alert(1)'>\",\n",
    "        \"<a href='/wiki/Portal:Philosophy'>Philosophy portal</a>\",\n",
    "        \"<span class='reference-text'>Normal text</span>\"\n",
    "    ]\n",
    "    \n",
    "    print(\"\\nTesting some examples:\")\n",
    "    for test_input in test_cases:\n",
    "        risk_score = detector.predict(test_input)\n",
    "        print(f\"Risk score for '{test_input}': {risk_score:.3f}\")\n"
   ]
  },
  {
   "cell_type": "code",
   "execution_count": 8,
   "metadata": {
    "execution": {
     "iopub.execute_input": "2024-11-04T15:03:26.225942Z",
     "iopub.status.busy": "2024-11-04T15:03:26.225764Z",
     "iopub.status.idle": "2024-11-04T15:38:26.752544Z",
     "shell.execute_reply": "2024-11-04T15:38:26.752208Z"
    }
   },
   "outputs": [
    {
     "name": "stdout",
     "output_type": "stream",
     "text": [
      "Training with learning rate: 0.001\n"
     ]
    },
    {
     "name": "stdout",
     "output_type": "stream",
     "text": [
      "Preprocessed input 0: [2, 3, 4, 2, 5, 6, 7, 8, 9, 10, 9, 11, 8, 12, 7, 8, 13, 8, 4, 2, 14, 15, 7, 8, 16, 8, 17, 7, 8, 9, 9, 18, 9, 19, 9, 20, 9, 21, 9, 22, 9, 23, 9, 16, 9, 24, 8, 25, 7, 8, 26, 8, 27, 7, 8, 28, 8, 29, 7, 8, 30, 8, 12, 7, 8, 31, 8, 32, 7, 8, 9, 9, 18, 9, 19, 9, 20, 9, 21, 9, 22, 9, 23, 9, 16, 9, 33, 34, 9, 9, 18, 9, 19, 9, 20, 9, 21, 9, 22, 9]\n"
     ]
    },
    {
     "name": "stdout",
     "output_type": "stream",
     "text": [
      "Epoch 1/20:\n",
      "Training Loss: 0.0976\n",
      "Training Accuracy: 96.39%\n",
      "Validation Loss: 0.0292\n",
      "Validation Accuracy: 98.98%\n",
      "Validation F1 Score: 0.9904\n"
     ]
    },
    {
     "name": "stdout",
     "output_type": "stream",
     "text": [
      "Epoch 2/20:\n",
      "Training Loss: 0.0213\n",
      "Training Accuracy: 99.28%\n",
      "Validation Loss: 0.0220\n",
      "Validation Accuracy: 99.20%\n",
      "Validation F1 Score: 0.9925\n"
     ]
    },
    {
     "name": "stdout",
     "output_type": "stream",
     "text": [
      "Epoch 3/20:\n",
      "Training Loss: 0.0154\n",
      "Training Accuracy: 99.49%\n",
      "Validation Loss: 0.0181\n",
      "Validation Accuracy: 99.31%\n",
      "Validation F1 Score: 0.9935\n"
     ]
    },
    {
     "name": "stdout",
     "output_type": "stream",
     "text": [
      "Epoch 4/20:\n",
      "Training Loss: 0.0111\n",
      "Training Accuracy: 99.62%\n",
      "Validation Loss: 0.0149\n",
      "Validation Accuracy: 99.53%\n",
      "Validation F1 Score: 0.9956\n"
     ]
    },
    {
     "name": "stdout",
     "output_type": "stream",
     "text": [
      "Epoch 5/20:\n",
      "Training Loss: 0.0072\n",
      "Training Accuracy: 99.81%\n",
      "Validation Loss: 0.0109\n",
      "Validation Accuracy: 99.56%\n",
      "Validation F1 Score: 0.9959\n"
     ]
    },
    {
     "name": "stdout",
     "output_type": "stream",
     "text": [
      "Epoch 6/20:\n",
      "Training Loss: 0.0065\n",
      "Training Accuracy: 99.77%\n",
      "Validation Loss: 0.0122\n",
      "Validation Accuracy: 99.63%\n",
      "Validation F1 Score: 0.9966\n"
     ]
    },
    {
     "name": "stdout",
     "output_type": "stream",
     "text": [
      "Epoch 7/20:\n",
      "Training Loss: 0.0053\n",
      "Training Accuracy: 99.80%\n",
      "Validation Loss: 0.0168\n",
      "Validation Accuracy: 99.49%\n",
      "Validation F1 Score: 0.9952\n"
     ]
    },
    {
     "name": "stdout",
     "output_type": "stream",
     "text": [
      "Epoch 8/20:\n",
      "Training Loss: 0.0034\n",
      "Training Accuracy: 99.86%\n",
      "Validation Loss: 0.0151\n",
      "Validation Accuracy: 99.53%\n",
      "Validation F1 Score: 0.9956\n"
     ]
    },
    {
     "name": "stdout",
     "output_type": "stream",
     "text": [
      "Epoch 9/20:\n",
      "Training Loss: 0.0015\n",
      "Training Accuracy: 99.97%\n",
      "Validation Loss: 0.0169\n",
      "Validation Accuracy: 99.53%\n",
      "Validation F1 Score: 0.9956\n"
     ]
    },
    {
     "name": "stdout",
     "output_type": "stream",
     "text": [
      "Epoch 10/20:\n",
      "Training Loss: 0.0013\n",
      "Training Accuracy: 99.93%\n",
      "Validation Loss: 0.0180\n",
      "Validation Accuracy: 99.56%\n",
      "Validation F1 Score: 0.9959\n"
     ]
    },
    {
     "name": "stdout",
     "output_type": "stream",
     "text": [
      "Epoch 11/20:\n",
      "Training Loss: 0.0013\n",
      "Training Accuracy: 99.94%\n",
      "Validation Loss: 0.0203\n",
      "Validation Accuracy: 99.60%\n",
      "Validation F1 Score: 0.9963\n"
     ]
    },
    {
     "name": "stdout",
     "output_type": "stream",
     "text": [
      "Epoch 12/20:\n",
      "Training Loss: 0.0021\n",
      "Training Accuracy: 99.94%\n",
      "Validation Loss: 0.0305\n",
      "Validation Accuracy: 99.45%\n",
      "Validation F1 Score: 0.9949\n"
     ]
    },
    {
     "name": "stdout",
     "output_type": "stream",
     "text": [
      "Epoch 13/20:\n",
      "Training Loss: 0.0032\n",
      "Training Accuracy: 99.89%\n",
      "Validation Loss: 0.0141\n",
      "Validation Accuracy: 99.67%\n",
      "Validation F1 Score: 0.9969\n"
     ]
    },
    {
     "name": "stdout",
     "output_type": "stream",
     "text": [
      "Epoch 14/20:\n",
      "Training Loss: 0.0006\n",
      "Training Accuracy: 99.98%\n",
      "Validation Loss: 0.0186\n",
      "Validation Accuracy: 99.63%\n",
      "Validation F1 Score: 0.9966\n"
     ]
    },
    {
     "name": "stdout",
     "output_type": "stream",
     "text": [
      "Epoch 15/20:\n",
      "Training Loss: 0.0005\n",
      "Training Accuracy: 99.98%\n",
      "Validation Loss: 0.0197\n",
      "Validation Accuracy: 99.63%\n",
      "Validation F1 Score: 0.9966\n"
     ]
    },
    {
     "name": "stdout",
     "output_type": "stream",
     "text": [
      "Epoch 16/20:\n",
      "Training Loss: 0.0004\n",
      "Training Accuracy: 99.98%\n",
      "Validation Loss: 0.0230\n",
      "Validation Accuracy: 99.60%\n",
      "Validation F1 Score: 0.9963\n"
     ]
    },
    {
     "name": "stdout",
     "output_type": "stream",
     "text": [
      "Epoch 17/20:\n",
      "Training Loss: 0.0002\n",
      "Training Accuracy: 99.98%\n",
      "Validation Loss: 0.0251\n",
      "Validation Accuracy: 99.63%\n",
      "Validation F1 Score: 0.9966\n"
     ]
    },
    {
     "name": "stdout",
     "output_type": "stream",
     "text": [
      "Epoch 18/20:\n",
      "Training Loss: 0.0005\n",
      "Training Accuracy: 99.98%\n",
      "Validation Loss: 0.0273\n",
      "Validation Accuracy: 99.60%\n",
      "Validation F1 Score: 0.9963\n"
     ]
    },
    {
     "name": "stdout",
     "output_type": "stream",
     "text": [
      "Epoch 19/20:\n",
      "Training Loss: 0.0008\n",
      "Training Accuracy: 99.96%\n",
      "Validation Loss: 0.0229\n",
      "Validation Accuracy: 99.53%\n",
      "Validation F1 Score: 0.9956\n"
     ]
    },
    {
     "name": "stdout",
     "output_type": "stream",
     "text": [
      "Epoch 20/20:\n",
      "Training Loss: 0.0027\n",
      "Training Accuracy: 99.92%\n",
      "Validation Loss: 0.0200\n",
      "Validation Accuracy: 99.49%\n",
      "Validation F1 Score: 0.9952\n",
      "Training with learning rate: 0.002\n"
     ]
    },
    {
     "name": "stdout",
     "output_type": "stream",
     "text": [
      "Epoch 1/20:\n",
      "Training Loss: 0.0217\n",
      "Training Accuracy: 99.72%\n",
      "Validation Loss: 0.0197\n",
      "Validation Accuracy: 99.49%\n",
      "Validation F1 Score: 0.9952\n"
     ]
    },
    {
     "name": "stdout",
     "output_type": "stream",
     "text": [
      "Epoch 2/20:\n",
      "Training Loss: 0.0018\n",
      "Training Accuracy: 99.96%\n",
      "Validation Loss: 0.0309\n",
      "Validation Accuracy: 99.56%\n",
      "Validation F1 Score: 0.9959\n"
     ]
    },
    {
     "name": "stdout",
     "output_type": "stream",
     "text": [
      "Epoch 3/20:\n",
      "Training Loss: 0.0009\n",
      "Training Accuracy: 99.98%\n",
      "Validation Loss: 0.0212\n",
      "Validation Accuracy: 99.53%\n",
      "Validation F1 Score: 0.9956\n"
     ]
    },
    {
     "name": "stdout",
     "output_type": "stream",
     "text": [
      "Epoch 4/20:\n",
      "Training Loss: 0.0012\n",
      "Training Accuracy: 99.97%\n",
      "Validation Loss: 0.0324\n",
      "Validation Accuracy: 99.63%\n",
      "Validation F1 Score: 0.9966\n"
     ]
    },
    {
     "name": "stdout",
     "output_type": "stream",
     "text": [
      "Epoch 5/20:\n",
      "Training Loss: 0.0042\n",
      "Training Accuracy: 99.89%\n",
      "Validation Loss: 0.0206\n",
      "Validation Accuracy: 99.56%\n",
      "Validation F1 Score: 0.9959\n"
     ]
    },
    {
     "name": "stdout",
     "output_type": "stream",
     "text": [
      "Epoch 6/20:\n",
      "Training Loss: 0.0025\n",
      "Training Accuracy: 99.94%\n",
      "Validation Loss: 0.0222\n",
      "Validation Accuracy: 99.53%\n",
      "Validation F1 Score: 0.9956\n"
     ]
    },
    {
     "name": "stdout",
     "output_type": "stream",
     "text": [
      "Epoch 7/20:\n",
      "Training Loss: 0.0022\n",
      "Training Accuracy: 99.95%\n",
      "Validation Loss: 0.0215\n",
      "Validation Accuracy: 99.60%\n",
      "Validation F1 Score: 0.9963\n"
     ]
    },
    {
     "name": "stdout",
     "output_type": "stream",
     "text": [
      "Epoch 8/20:\n",
      "Training Loss: 0.0004\n",
      "Training Accuracy: 99.99%\n",
      "Validation Loss: 0.0244\n",
      "Validation Accuracy: 99.60%\n",
      "Validation F1 Score: 0.9963\n"
     ]
    },
    {
     "name": "stdout",
     "output_type": "stream",
     "text": [
      "Epoch 9/20:\n",
      "Training Loss: 0.0003\n",
      "Training Accuracy: 99.98%\n",
      "Validation Loss: 0.0253\n",
      "Validation Accuracy: 99.63%\n",
      "Validation F1 Score: 0.9966\n"
     ]
    },
    {
     "name": "stdout",
     "output_type": "stream",
     "text": [
      "Epoch 10/20:\n",
      "Training Loss: 0.0003\n",
      "Training Accuracy: 99.98%\n",
      "Validation Loss: 0.0260\n",
      "Validation Accuracy: 99.63%\n",
      "Validation F1 Score: 0.9966\n"
     ]
    },
    {
     "name": "stdout",
     "output_type": "stream",
     "text": [
      "Epoch 11/20:\n",
      "Training Loss: 0.0002\n",
      "Training Accuracy: 99.99%\n",
      "Validation Loss: 0.0281\n",
      "Validation Accuracy: 99.60%\n",
      "Validation F1 Score: 0.9963\n"
     ]
    },
    {
     "name": "stdout",
     "output_type": "stream",
     "text": [
      "Epoch 12/20:\n",
      "Training Loss: 0.0005\n",
      "Training Accuracy: 99.98%\n",
      "Validation Loss: 0.0255\n",
      "Validation Accuracy: 99.63%\n",
      "Validation F1 Score: 0.9966\n"
     ]
    },
    {
     "name": "stdout",
     "output_type": "stream",
     "text": [
      "Epoch 13/20:\n",
      "Training Loss: 0.0003\n",
      "Training Accuracy: 99.98%\n",
      "Validation Loss: 0.0257\n",
      "Validation Accuracy: 99.63%\n",
      "Validation F1 Score: 0.9966\n"
     ]
    },
    {
     "name": "stdout",
     "output_type": "stream",
     "text": [
      "Epoch 14/20:\n",
      "Training Loss: 0.0002\n",
      "Training Accuracy: 99.99%\n",
      "Validation Loss: 0.0271\n",
      "Validation Accuracy: 99.63%\n",
      "Validation F1 Score: 0.9966\n"
     ]
    },
    {
     "name": "stdout",
     "output_type": "stream",
     "text": [
      "Epoch 15/20:\n",
      "Training Loss: 0.0002\n",
      "Training Accuracy: 99.98%\n",
      "Validation Loss: 0.0278\n",
      "Validation Accuracy: 99.63%\n",
      "Validation F1 Score: 0.9966\n"
     ]
    },
    {
     "name": "stdout",
     "output_type": "stream",
     "text": [
      "Epoch 16/20:\n",
      "Training Loss: 0.0003\n",
      "Training Accuracy: 99.98%\n",
      "Validation Loss: 0.0279\n",
      "Validation Accuracy: 99.63%\n",
      "Validation F1 Score: 0.9966\n"
     ]
    },
    {
     "name": "stdout",
     "output_type": "stream",
     "text": [
      "Epoch 17/20:\n",
      "Training Loss: 0.0003\n",
      "Training Accuracy: 99.99%\n",
      "Validation Loss: 0.0284\n",
      "Validation Accuracy: 99.63%\n",
      "Validation F1 Score: 0.9966\n"
     ]
    },
    {
     "name": "stdout",
     "output_type": "stream",
     "text": [
      "Epoch 18/20:\n",
      "Training Loss: 0.0002\n",
      "Training Accuracy: 99.98%\n",
      "Validation Loss: 0.0281\n",
      "Validation Accuracy: 99.63%\n",
      "Validation F1 Score: 0.9966\n"
     ]
    },
    {
     "name": "stdout",
     "output_type": "stream",
     "text": [
      "Epoch 19/20:\n",
      "Training Loss: 0.0002\n",
      "Training Accuracy: 99.99%\n",
      "Validation Loss: 0.0294\n",
      "Validation Accuracy: 99.56%\n",
      "Validation F1 Score: 0.9959\n"
     ]
    },
    {
     "name": "stdout",
     "output_type": "stream",
     "text": [
      "Epoch 20/20:\n",
      "Training Loss: 0.0004\n",
      "Training Accuracy: 99.98%\n",
      "Validation Loss: 0.0217\n",
      "Validation Accuracy: 99.60%\n",
      "Validation F1 Score: 0.9962\n",
      "Training with learning rate: 0.01\n"
     ]
    },
    {
     "name": "stdout",
     "output_type": "stream",
     "text": [
      "Epoch 1/20:\n",
      "Training Loss: 0.0170\n",
      "Training Accuracy: 99.61%\n",
      "Validation Loss: 0.0198\n",
      "Validation Accuracy: 99.49%\n",
      "Validation F1 Score: 0.9952\n"
     ]
    },
    {
     "name": "stdout",
     "output_type": "stream",
     "text": [
      "Epoch 2/20:\n",
      "Training Loss: 0.0034\n",
      "Training Accuracy: 99.92%\n",
      "Validation Loss: 0.0251\n",
      "Validation Accuracy: 99.53%\n",
      "Validation F1 Score: 0.9956\n"
     ]
    },
    {
     "name": "stdout",
     "output_type": "stream",
     "text": [
      "Epoch 3/20:\n",
      "Training Loss: 0.0016\n",
      "Training Accuracy: 99.95%\n",
      "Validation Loss: 0.0257\n",
      "Validation Accuracy: 99.63%\n",
      "Validation F1 Score: 0.9966\n"
     ]
    },
    {
     "name": "stdout",
     "output_type": "stream",
     "text": [
      "Epoch 4/20:\n",
      "Training Loss: 0.0013\n",
      "Training Accuracy: 99.95%\n",
      "Validation Loss: 0.0407\n",
      "Validation Accuracy: 99.53%\n",
      "Validation F1 Score: 0.9956\n"
     ]
    },
    {
     "name": "stdout",
     "output_type": "stream",
     "text": [
      "Epoch 5/20:\n",
      "Training Loss: 0.0066\n",
      "Training Accuracy: 99.87%\n",
      "Validation Loss: 0.0210\n",
      "Validation Accuracy: 99.60%\n",
      "Validation F1 Score: 0.9963\n"
     ]
    },
    {
     "name": "stdout",
     "output_type": "stream",
     "text": [
      "Epoch 6/20:\n",
      "Training Loss: 0.0020\n",
      "Training Accuracy: 99.95%\n",
      "Validation Loss: 0.0224\n",
      "Validation Accuracy: 99.63%\n",
      "Validation F1 Score: 0.9966\n"
     ]
    },
    {
     "name": "stdout",
     "output_type": "stream",
     "text": [
      "Epoch 7/20:\n",
      "Training Loss: 0.0005\n",
      "Training Accuracy: 99.97%\n",
      "Validation Loss: 0.0226\n",
      "Validation Accuracy: 99.63%\n",
      "Validation F1 Score: 0.9966\n"
     ]
    },
    {
     "name": "stdout",
     "output_type": "stream",
     "text": [
      "Epoch 8/20:\n",
      "Training Loss: 0.0006\n",
      "Training Accuracy: 99.98%\n",
      "Validation Loss: 0.0242\n",
      "Validation Accuracy: 99.71%\n",
      "Validation F1 Score: 0.9973\n"
     ]
    },
    {
     "name": "stdout",
     "output_type": "stream",
     "text": [
      "Epoch 9/20:\n",
      "Training Loss: 0.0003\n",
      "Training Accuracy: 99.99%\n",
      "Validation Loss: 0.0269\n",
      "Validation Accuracy: 99.71%\n",
      "Validation F1 Score: 0.9973\n"
     ]
    },
    {
     "name": "stdout",
     "output_type": "stream",
     "text": [
      "Epoch 10/20:\n",
      "Training Loss: 0.0003\n",
      "Training Accuracy: 99.98%\n",
      "Validation Loss: 0.0274\n",
      "Validation Accuracy: 99.67%\n",
      "Validation F1 Score: 0.9969\n"
     ]
    },
    {
     "name": "stdout",
     "output_type": "stream",
     "text": [
      "Epoch 11/20:\n",
      "Training Loss: 0.0002\n",
      "Training Accuracy: 99.99%\n",
      "Validation Loss: 0.0301\n",
      "Validation Accuracy: 99.71%\n",
      "Validation F1 Score: 0.9973\n"
     ]
    },
    {
     "name": "stdout",
     "output_type": "stream",
     "text": [
      "Epoch 12/20:\n",
      "Training Loss: 0.0002\n",
      "Training Accuracy: 99.99%\n",
      "Validation Loss: 0.0312\n",
      "Validation Accuracy: 99.71%\n",
      "Validation F1 Score: 0.9973\n"
     ]
    },
    {
     "name": "stdout",
     "output_type": "stream",
     "text": [
      "Epoch 13/20:\n",
      "Training Loss: 0.0002\n",
      "Training Accuracy: 99.99%\n",
      "Validation Loss: 0.0307\n",
      "Validation Accuracy: 99.67%\n",
      "Validation F1 Score: 0.9969\n"
     ]
    },
    {
     "name": "stdout",
     "output_type": "stream",
     "text": [
      "Epoch 14/20:\n",
      "Training Loss: 0.0002\n",
      "Training Accuracy: 99.99%\n",
      "Validation Loss: 0.0317\n",
      "Validation Accuracy: 99.71%\n",
      "Validation F1 Score: 0.9973\n"
     ]
    },
    {
     "name": "stdout",
     "output_type": "stream",
     "text": [
      "Epoch 15/20:\n",
      "Training Loss: 0.0002\n",
      "Training Accuracy: 99.99%\n",
      "Validation Loss: 0.0325\n",
      "Validation Accuracy: 99.71%\n",
      "Validation F1 Score: 0.9973\n"
     ]
    },
    {
     "name": "stdout",
     "output_type": "stream",
     "text": [
      "Epoch 16/20:\n",
      "Training Loss: 0.0002\n",
      "Training Accuracy: 99.99%\n",
      "Validation Loss: 0.0339\n",
      "Validation Accuracy: 99.71%\n",
      "Validation F1 Score: 0.9973\n"
     ]
    },
    {
     "name": "stdout",
     "output_type": "stream",
     "text": [
      "Epoch 17/20:\n",
      "Training Loss: 0.0002\n",
      "Training Accuracy: 99.99%\n",
      "Validation Loss: 0.0334\n",
      "Validation Accuracy: 99.67%\n",
      "Validation F1 Score: 0.9969\n"
     ]
    },
    {
     "name": "stdout",
     "output_type": "stream",
     "text": [
      "Epoch 18/20:\n",
      "Training Loss: 0.0002\n",
      "Training Accuracy: 99.99%\n",
      "Validation Loss: 0.0345\n",
      "Validation Accuracy: 99.71%\n",
      "Validation F1 Score: 0.9973\n"
     ]
    },
    {
     "name": "stdout",
     "output_type": "stream",
     "text": [
      "Epoch 19/20:\n",
      "Training Loss: 0.0002\n",
      "Training Accuracy: 99.99%\n",
      "Validation Loss: 0.0415\n",
      "Validation Accuracy: 99.67%\n",
      "Validation F1 Score: 0.9969\n"
     ]
    },
    {
     "name": "stdout",
     "output_type": "stream",
     "text": [
      "Epoch 20/20:\n",
      "Training Loss: 0.0002\n",
      "Training Accuracy: 99.98%\n",
      "Validation Loss: 0.0418\n",
      "Validation Accuracy: 99.67%\n",
      "Validation F1 Score: 0.9969\n",
      "Training with learning rate: 0.02\n"
     ]
    },
    {
     "name": "stdout",
     "output_type": "stream",
     "text": [
      "Epoch 1/20:\n",
      "Training Loss: 0.0523\n",
      "Training Accuracy: 99.52%\n",
      "Validation Loss: 0.0156\n",
      "Validation Accuracy: 99.49%\n",
      "Validation F1 Score: 0.9952\n"
     ]
    },
    {
     "name": "stdout",
     "output_type": "stream",
     "text": [
      "Epoch 2/20:\n",
      "Training Loss: 0.0103\n",
      "Training Accuracy: 99.69%\n",
      "Validation Loss: 0.0276\n",
      "Validation Accuracy: 99.56%\n",
      "Validation F1 Score: 0.9959\n"
     ]
    },
    {
     "name": "stdout",
     "output_type": "stream",
     "text": [
      "Epoch 3/20:\n",
      "Training Loss: 0.0066\n",
      "Training Accuracy: 99.79%\n",
      "Validation Loss: 0.0420\n",
      "Validation Accuracy: 99.09%\n",
      "Validation F1 Score: 0.9914\n"
     ]
    },
    {
     "name": "stdout",
     "output_type": "stream",
     "text": [
      "Epoch 4/20:\n",
      "Training Loss: 0.0170\n",
      "Training Accuracy: 99.81%\n",
      "Validation Loss: 0.0841\n",
      "Validation Accuracy: 99.05%\n",
      "Validation F1 Score: 0.9911\n"
     ]
    },
    {
     "name": "stdout",
     "output_type": "stream",
     "text": [
      "Epoch 5/20:\n",
      "Training Loss: 0.0078\n",
      "Training Accuracy: 99.81%\n",
      "Validation Loss: 0.0256\n",
      "Validation Accuracy: 99.38%\n",
      "Validation F1 Score: 0.9942\n"
     ]
    },
    {
     "name": "stdout",
     "output_type": "stream",
     "text": [
      "Epoch 6/20:\n",
      "Training Loss: 0.0043\n",
      "Training Accuracy: 99.86%\n",
      "Validation Loss: 0.0557\n",
      "Validation Accuracy: 99.31%\n",
      "Validation F1 Score: 0.9935\n"
     ]
    },
    {
     "name": "stdout",
     "output_type": "stream",
     "text": [
      "Epoch 7/20:\n",
      "Training Loss: 0.0064\n",
      "Training Accuracy: 99.85%\n",
      "Validation Loss: 0.0810\n",
      "Validation Accuracy: 99.27%\n",
      "Validation F1 Score: 0.9932\n"
     ]
    },
    {
     "name": "stdout",
     "output_type": "stream",
     "text": [
      "Epoch 8/20:\n",
      "Training Loss: 0.0052\n",
      "Training Accuracy: 99.90%\n",
      "Validation Loss: 0.0271\n",
      "Validation Accuracy: 99.60%\n",
      "Validation F1 Score: 0.9962\n"
     ]
    },
    {
     "name": "stdout",
     "output_type": "stream",
     "text": [
      "Epoch 9/20:\n",
      "Training Loss: 0.0031\n",
      "Training Accuracy: 99.92%\n",
      "Validation Loss: 0.0238\n",
      "Validation Accuracy: 99.53%\n",
      "Validation F1 Score: 0.9956\n"
     ]
    },
    {
     "name": "stdout",
     "output_type": "stream",
     "text": [
      "Epoch 10/20:\n",
      "Training Loss: 0.0228\n",
      "Training Accuracy: 99.91%\n",
      "Validation Loss: 0.0782\n",
      "Validation Accuracy: 99.56%\n",
      "Validation F1 Score: 0.9959\n"
     ]
    },
    {
     "name": "stdout",
     "output_type": "stream",
     "text": [
      "Epoch 11/20:\n",
      "Training Loss: 0.0157\n",
      "Training Accuracy: 99.91%\n",
      "Validation Loss: 0.0346\n",
      "Validation Accuracy: 99.53%\n",
      "Validation F1 Score: 0.9956\n"
     ]
    },
    {
     "name": "stdout",
     "output_type": "stream",
     "text": [
      "Epoch 12/20:\n",
      "Training Loss: 0.0074\n",
      "Training Accuracy: 99.80%\n",
      "Validation Loss: 0.0427\n",
      "Validation Accuracy: 99.45%\n",
      "Validation F1 Score: 0.9949\n"
     ]
    },
    {
     "name": "stdout",
     "output_type": "stream",
     "text": [
      "Epoch 13/20:\n",
      "Training Loss: 0.0072\n",
      "Training Accuracy: 99.82%\n",
      "Validation Loss: 0.0329\n",
      "Validation Accuracy: 99.53%\n",
      "Validation F1 Score: 0.9956\n"
     ]
    },
    {
     "name": "stdout",
     "output_type": "stream",
     "text": [
      "Epoch 14/20:\n",
      "Training Loss: 0.0038\n",
      "Training Accuracy: 99.94%\n",
      "Validation Loss: 0.0254\n",
      "Validation Accuracy: 99.53%\n",
      "Validation F1 Score: 0.9956\n"
     ]
    },
    {
     "name": "stdout",
     "output_type": "stream",
     "text": [
      "Epoch 15/20:\n",
      "Training Loss: 0.0247\n",
      "Training Accuracy: 99.89%\n",
      "Validation Loss: 0.0237\n",
      "Validation Accuracy: 99.63%\n",
      "Validation F1 Score: 0.9966\n"
     ]
    },
    {
     "name": "stdout",
     "output_type": "stream",
     "text": [
      "Epoch 16/20:\n",
      "Training Loss: 0.0273\n",
      "Training Accuracy: 99.84%\n",
      "Validation Loss: 0.0748\n",
      "Validation Accuracy: 99.45%\n",
      "Validation F1 Score: 0.9949\n"
     ]
    },
    {
     "name": "stdout",
     "output_type": "stream",
     "text": [
      "Epoch 17/20:\n",
      "Training Loss: 0.0169\n",
      "Training Accuracy: 99.74%\n",
      "Validation Loss: 0.0461\n",
      "Validation Accuracy: 99.31%\n",
      "Validation F1 Score: 0.9935\n"
     ]
    },
    {
     "name": "stdout",
     "output_type": "stream",
     "text": [
      "Epoch 18/20:\n",
      "Training Loss: 0.1178\n",
      "Training Accuracy: 96.09%\n",
      "Validation Loss: 0.1230\n",
      "Validation Accuracy: 95.62%\n",
      "Validation F1 Score: 0.9587\n"
     ]
    },
    {
     "name": "stdout",
     "output_type": "stream",
     "text": [
      "Epoch 19/20:\n",
      "Training Loss: 0.1219\n",
      "Training Accuracy: 95.61%\n",
      "Validation Loss: 0.0761\n",
      "Validation Accuracy: 98.43%\n",
      "Validation F1 Score: 0.9852\n"
     ]
    },
    {
     "name": "stdout",
     "output_type": "stream",
     "text": [
      "Epoch 20/20:\n",
      "Training Loss: 0.0697\n",
      "Training Accuracy: 97.59%\n",
      "Validation Loss: 0.0399\n",
      "Validation Accuracy: 98.83%\n",
      "Validation F1 Score: 0.9890\n",
      "Training with learning rate: 0.05\n"
     ]
    },
    {
     "name": "stdout",
     "output_type": "stream",
     "text": [
      "Epoch 1/20:\n",
      "Training Loss: 0.1404\n",
      "Training Accuracy: 95.87%\n",
      "Validation Loss: 0.0734\n",
      "Validation Accuracy: 98.39%\n",
      "Validation F1 Score: 0.9849\n"
     ]
    },
    {
     "name": "stdout",
     "output_type": "stream",
     "text": [
      "Epoch 2/20:\n",
      "Training Loss: 0.4229\n",
      "Training Accuracy: 81.68%\n",
      "Validation Loss: 0.2709\n",
      "Validation Accuracy: 89.66%\n",
      "Validation F1 Score: 0.8980\n"
     ]
    },
    {
     "name": "stdout",
     "output_type": "stream",
     "text": [
      "Epoch 3/20:\n",
      "Training Loss: 0.2347\n",
      "Training Accuracy: 91.48%\n",
      "Validation Loss: 0.0895\n",
      "Validation Accuracy: 98.10%\n",
      "Validation F1 Score: 0.9822\n"
     ]
    },
    {
     "name": "stdout",
     "output_type": "stream",
     "text": [
      "Epoch 4/20:\n",
      "Training Loss: 0.1114\n",
      "Training Accuracy: 96.50%\n",
      "Validation Loss: 0.0905\n",
      "Validation Accuracy: 97.33%\n",
      "Validation F1 Score: 0.9747\n"
     ]
    },
    {
     "name": "stdout",
     "output_type": "stream",
     "text": [
      "Epoch 5/20:\n",
      "Training Loss: 0.1024\n",
      "Training Accuracy: 96.65%\n",
      "Validation Loss: 0.0904\n",
      "Validation Accuracy: 97.59%\n",
      "Validation F1 Score: 0.9771\n"
     ]
    },
    {
     "name": "stdout",
     "output_type": "stream",
     "text": [
      "Epoch 6/20:\n",
      "Training Loss: 0.0964\n",
      "Training Accuracy: 96.97%\n",
      "Validation Loss: 0.0597\n",
      "Validation Accuracy: 97.70%\n",
      "Validation F1 Score: 0.9783\n"
     ]
    },
    {
     "name": "stdout",
     "output_type": "stream",
     "text": [
      "Epoch 7/20:\n",
      "Training Loss: 0.0649\n",
      "Training Accuracy: 97.96%\n",
      "Validation Loss: 0.0634\n",
      "Validation Accuracy: 98.28%\n",
      "Validation F1 Score: 0.9839\n"
     ]
    },
    {
     "name": "stdout",
     "output_type": "stream",
     "text": [
      "Epoch 8/20:\n",
      "Training Loss: 0.0561\n",
      "Training Accuracy: 98.39%\n",
      "Validation Loss: 0.0610\n",
      "Validation Accuracy: 98.10%\n",
      "Validation F1 Score: 0.9821\n"
     ]
    },
    {
     "name": "stdout",
     "output_type": "stream",
     "text": [
      "Epoch 9/20:\n",
      "Training Loss: 0.0713\n",
      "Training Accuracy: 97.93%\n",
      "Validation Loss: 0.0498\n",
      "Validation Accuracy: 98.50%\n",
      "Validation F1 Score: 0.9859\n"
     ]
    },
    {
     "name": "stdout",
     "output_type": "stream",
     "text": [
      "Epoch 10/20:\n",
      "Training Loss: 0.0703\n",
      "Training Accuracy: 97.84%\n",
      "Validation Loss: 0.0546\n",
      "Validation Accuracy: 98.32%\n",
      "Validation F1 Score: 0.9842\n"
     ]
    },
    {
     "name": "stdout",
     "output_type": "stream",
     "text": [
      "Epoch 11/20:\n",
      "Training Loss: 0.0612\n",
      "Training Accuracy: 98.12%\n",
      "Validation Loss: 0.0440\n",
      "Validation Accuracy: 98.68%\n",
      "Validation F1 Score: 0.9876\n"
     ]
    },
    {
     "name": "stdout",
     "output_type": "stream",
     "text": [
      "Epoch 12/20:\n",
      "Training Loss: 0.0521\n",
      "Training Accuracy: 98.64%\n",
      "Validation Loss: 0.0696\n",
      "Validation Accuracy: 98.47%\n",
      "Validation F1 Score: 0.9856\n"
     ]
    },
    {
     "name": "stdout",
     "output_type": "stream",
     "text": [
      "Epoch 13/20:\n",
      "Training Loss: 0.0457\n",
      "Training Accuracy: 98.77%\n",
      "Validation Loss: 0.0442\n",
      "Validation Accuracy: 98.98%\n",
      "Validation F1 Score: 0.9904\n"
     ]
    },
    {
     "name": "stdout",
     "output_type": "stream",
     "text": [
      "Epoch 14/20:\n",
      "Training Loss: 0.2948\n",
      "Training Accuracy: 83.71%\n",
      "Validation Loss: 0.6901\n",
      "Validation Accuracy: 53.78%\n",
      "Validation F1 Score: 0.6989\n"
     ]
    },
    {
     "name": "stdout",
     "output_type": "stream",
     "text": [
      "Epoch 15/20:\n",
      "Training Loss: 0.7096\n",
      "Training Accuracy: 55.87%\n",
      "Validation Loss: 0.6694\n",
      "Validation Accuracy: 57.87%\n",
      "Validation F1 Score: 0.7161\n"
     ]
    },
    {
     "name": "stdout",
     "output_type": "stream",
     "text": [
      "Epoch 16/20:\n",
      "Training Loss: 0.6294\n",
      "Training Accuracy: 65.12%\n",
      "Validation Loss: 0.5588\n",
      "Validation Accuracy: 76.14%\n",
      "Validation F1 Score: 0.8035\n"
     ]
    },
    {
     "name": "stdout",
     "output_type": "stream",
     "text": [
      "Epoch 17/20:\n",
      "Training Loss: 0.6084\n",
      "Training Accuracy: 67.87%\n",
      "Validation Loss: 0.4800\n",
      "Validation Accuracy: 77.60%\n",
      "Validation F1 Score: 0.8057\n"
     ]
    },
    {
     "name": "stdout",
     "output_type": "stream",
     "text": [
      "Epoch 18/20:\n",
      "Training Loss: 0.6135\n",
      "Training Accuracy: 68.04%\n",
      "Validation Loss: 0.6132\n",
      "Validation Accuracy: 64.38%\n",
      "Validation F1 Score: 0.7471\n"
     ]
    },
    {
     "name": "stdout",
     "output_type": "stream",
     "text": [
      "Epoch 19/20:\n",
      "Training Loss: 0.5687\n",
      "Training Accuracy: 71.88%\n",
      "Validation Loss: 0.4617\n",
      "Validation Accuracy: 80.82%\n",
      "Validation F1 Score: 0.8329\n"
     ]
    },
    {
     "name": "stdout",
     "output_type": "stream",
     "text": [
      "Epoch 20/20:\n",
      "Training Loss: 0.5304\n",
      "Training Accuracy: 74.30%\n",
      "Validation Loss: 0.4924\n",
      "Validation Accuracy: 75.08%\n",
      "Validation F1 Score: 0.7936\n"
     ]
    },
    {
     "data": {
      "image/png": "[encoded data removed]",
      "text/plain": [
       "<Figure size 1000x600 with 1 Axes>"
      ]
     },
     "metadata": {},
     "output_type": "display_data"
    },
    {
     "name": "stdout",
     "output_type": "stream",
     "text": [
      "\n",
      "Testing some examples:\n"
     ]
    },
    {
     "ename": "AttributeError",
     "evalue": "'XSSDetector' object has no attribute 'predict'",
     "output_type": "error",
     "traceback": [
      "\u001b[0;31m---------------------------------------------------------------------------\u001b[0m",
      "\u001b[0;31mAttributeError\u001b[0m                            Traceback (most recent call last)",
      "Cell \u001b[0;32mIn[8], line 3\u001b[0m\n\u001b[1;32m      1\u001b[0m \u001b[38;5;66;03m# Run demonstration\u001b[39;00m\n\u001b[1;32m      2\u001b[0m \u001b[38;5;28;01mif\u001b[39;00m \u001b[38;5;18m__name__\u001b[39m \u001b[38;5;241m==\u001b[39m \u001b[38;5;124m\"\u001b[39m\u001b[38;5;124m__main__\u001b[39m\u001b[38;5;124m\"\u001b[39m:\n\u001b[0;32m----> 3\u001b[0m     \u001b[43mdemo_detector\u001b[49m\u001b[43m(\u001b[49m\u001b[43m)\u001b[49m\n",
      "Cell \u001b[0;32mIn[7], line 43\u001b[0m, in \u001b[0;36mdemo_detector\u001b[0;34m()\u001b[0m\n\u001b[1;32m     41\u001b[0m \u001b[38;5;28mprint\u001b[39m(\u001b[38;5;124m\"\u001b[39m\u001b[38;5;130;01m\\n\u001b[39;00m\u001b[38;5;124mTesting some examples:\u001b[39m\u001b[38;5;124m\"\u001b[39m)\n\u001b[1;32m     42\u001b[0m \u001b[38;5;28;01mfor\u001b[39;00m test_input \u001b[38;5;129;01min\u001b[39;00m test_cases:\n\u001b[0;32m---> 43\u001b[0m     risk_score \u001b[38;5;241m=\u001b[39m \u001b[43mdetector\u001b[49m\u001b[38;5;241;43m.\u001b[39;49m\u001b[43mpredict\u001b[49m(test_input)\n\u001b[1;32m     44\u001b[0m     \u001b[38;5;28mprint\u001b[39m(\u001b[38;5;124mf\u001b[39m\u001b[38;5;124m\"\u001b[39m\u001b[38;5;124mRisk score for \u001b[39m\u001b[38;5;124m'\u001b[39m\u001b[38;5;132;01m{\u001b[39;00mtest_input\u001b[38;5;132;01m}\u001b[39;00m\u001b[38;5;124m'\u001b[39m\u001b[38;5;124m: \u001b[39m\u001b[38;5;132;01m{\u001b[39;00mrisk_score\u001b[38;5;132;01m:\u001b[39;00m\u001b[38;5;124m.3f\u001b[39m\u001b[38;5;132;01m}\u001b[39;00m\u001b[38;5;124m\"\u001b[39m)\n",
      "\u001b[0;31mAttributeError\u001b[0m: 'XSSDetector' object has no attribute 'predict'"
     ]
    }
   ],
   "source": [
    "# Run demonstration\n",
    "if __name__ == \"__main__\":\n",
    "    demo_detector()"
   ]
  }
 ],
 "metadata": {
  "kernelspec": {
   "display_name": "Python 3 (ipykernel)",
   "language": "python",
   "name": "python3"
  },
  "language_info": {
   "codemirror_mode": {
    "name": "ipython",
    "version": 3
   },
   "file_extension": ".py",
   "mimetype": "text/x-python",
   "name": "python",
   "nbconvert_exporter": "python",
   "pygments_lexer": "ipython3",
   "version": "3.12.3"
  }
 },
 "nbformat": 4,
 "nbformat_minor": 2
}
