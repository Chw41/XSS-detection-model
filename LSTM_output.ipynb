{
 "cells": [
  {
   "cell_type": "code",
   "execution_count": 1,
   "metadata": {
    "execution": {
     "iopub.execute_input": "2024-11-04T16:47:12.198582Z",
     "iopub.status.busy": "2024-11-04T16:47:12.198453Z",
     "iopub.status.idle": "2024-11-04T16:47:14.385188Z",
     "shell.execute_reply": "2024-11-04T16:47:14.384677Z"
    }
   },
   "outputs": [],
   "source": [
    "# Import necessary libraries\n",
    "import pandas as pd\n",
    "import torch\n",
    "import torch.nn as nn\n",
    "from torch.utils.data import Dataset, DataLoader\n",
    "from collections import Counter\n",
    "import re\n",
    "from typing import List, Tuple\n",
    "from sklearn.metrics import f1_score\n",
    "import matplotlib.pyplot as plt"
   ]
  },
  {
   "cell_type": "code",
   "execution_count": 2,
   "metadata": {
    "execution": {
     "iopub.execute_input": "2024-11-04T16:47:14.387355Z",
     "iopub.status.busy": "2024-11-04T16:47:14.387052Z",
     "iopub.status.idle": "2024-11-04T16:47:14.394835Z",
     "shell.execute_reply": "2024-11-04T16:47:14.394418Z"
    }
   },
   "outputs": [],
   "source": [
    "# Import necessary libraries\n",
    "import pandas as pd\n",
    "import torch\n",
    "import torch.nn as nn\n",
    "from torch.utils.data import Dataset, DataLoader\n",
    "from collections import Counter\n",
    "import re\n",
    "from typing import List, Tuple\n",
    "from sklearn.metrics import f1_score"
   ]
  },
  {
   "cell_type": "code",
   "execution_count": 3,
   "metadata": {
    "execution": {
     "iopub.execute_input": "2024-11-04T16:47:14.396489Z",
     "iopub.status.busy": "2024-11-04T16:47:14.396255Z",
     "iopub.status.idle": "2024-11-04T16:47:14.405713Z",
     "shell.execute_reply": "2024-11-04T16:47:14.405376Z"
    }
   },
   "outputs": [],
   "source": [
    "# Preprocessing class for handling text data\n",
    "class TextPreprocessor:\n",
    "    def __init__(self, max_len: int = 100):\n",
    "        self.max_len = max_len\n",
    "        self.vocab = {'<PAD>': 0, '<UNK>': 1}  # Initial vocabulary with padding and unknown tokens\n",
    "        self.vocab_size = 2\n",
    "    \n",
    "    def tokenize(self, text: str) -> List[str]:\n",
    "        \"\"\"Tokenize HTML text into meaningful components.\"\"\"\n",
    "        # Separate HTML tags and attributes\n",
    "        text = re.sub(r'([<>/=\"])', r' \\1 ', text)\n",
    "        # Remove extra whitespace\n",
    "        text = ' '.join(text.split())\n",
    "        return text.lower().split()\n",
    "    \n",
    "    def build_vocab(self, texts: List[str], min_freq: int = 2):\n",
    "        \"\"\"Build vocabulary with common tokens\"\"\"\n",
    "        counter = Counter()\n",
    "        for text in texts:\n",
    "            tokens = self.tokenize(text)\n",
    "            counter.update(tokens)\n",
    "        \n",
    "        # Add words meeting the minimum frequency threshold\n",
    "        for word, freq in counter.items():\n",
    "            if freq >= min_freq and word not in self.vocab:\n",
    "                self.vocab[word] = self.vocab_size\n",
    "                self.vocab_size += 1\n",
    "    \n",
    "    def encode_text(self, text: str) -> List[int]:\n",
    "        \"\"\"Convert text to integer sequence\"\"\"\n",
    "        tokens = self.tokenize(text)\n",
    "        # Truncate or pad to specified length\n",
    "        if len(tokens) > self.max_len:\n",
    "            tokens = tokens[:self.max_len]\n",
    "        else:\n",
    "            tokens.extend(['<PAD>'] * (self.max_len - len(tokens)))\n",
    "        \n",
    "        return [self.vocab.get(token, self.vocab['<UNK>']) for token in tokens]\n"
   ]
  },
  {
   "cell_type": "code",
   "execution_count": 4,
   "metadata": {
    "execution": {
     "iopub.execute_input": "2024-11-04T16:47:14.407090Z",
     "iopub.status.busy": "2024-11-04T16:47:14.406927Z",
     "iopub.status.idle": "2024-11-04T16:47:14.410068Z",
     "shell.execute_reply": "2024-11-04T16:47:14.409746Z"
    }
   },
   "outputs": [],
   "source": [
    "# Custom Dataset class for XSS data\n",
    "class XSSDataset(Dataset):\n",
    "    def __init__(self, texts: List[str], labels: List[int], preprocessor: TextPreprocessor):\n",
    "        self.preprocessor = preprocessor\n",
    "        self.encodings = [self.preprocessor.encode_text(text) for text in texts]\n",
    "        self.labels = labels\n",
    "        self.has_printed = False\n",
    "\n",
    "    def __len__(self):\n",
    "        return len(self.labels)\n",
    "\n",
    "    def __getitem__(self, idx) -> Tuple[torch.Tensor, torch.Tensor]:\n",
    "        if idx < 3 and not self.has_printed:\n",
    "            print(f\"Preprocessed input {idx}: {self.encodings[idx]}\")\n",
    "            self.has_printed = True\n",
    "        return (torch.tensor(self.encodings[idx], dtype=torch.long),\n",
    "                torch.tensor(self.labels[idx], dtype=torch.float))"
   ]
  },
  {
   "cell_type": "code",
   "execution_count": 5,
   "metadata": {
    "execution": {
     "iopub.execute_input": "2024-11-04T16:47:14.414644Z",
     "iopub.status.busy": "2024-11-04T16:47:14.412110Z",
     "iopub.status.idle": "2024-11-04T16:47:14.423304Z",
     "shell.execute_reply": "2024-11-04T16:47:14.422671Z"
    }
   },
   "outputs": [],
   "source": [
    "# LSTM model class for XSS detection\n",
    "class XSSDetectorLSTM(nn.Module):\n",
    "    def __init__(self, vocab_size: int, embedding_dim: int = 50, \n",
    "                 hidden_dim: int = 64, num_layers: int = 2, dropout: float = 0.2):\n",
    "        super().__init__()\n",
    "        \n",
    "        self.embedding = nn.Embedding(vocab_size, embedding_dim, padding_idx=0)\n",
    "        self.lstm = nn.LSTM(\n",
    "            embedding_dim,\n",
    "            hidden_dim,\n",
    "            num_layers=num_layers,\n",
    "            batch_first=True,\n",
    "            dropout=dropout if num_layers > 1 else 0,\n",
    "            bidirectional=True\n",
    "        )\n",
    "        self.fc1 = nn.Linear(hidden_dim * 2, 32)\n",
    "        self.fc2 = nn.Linear(32, 1)\n",
    "        self.dropout = nn.Dropout(dropout)\n",
    "        \n",
    "    def forward(self, x):\n",
    "        embedded = self.embedding(x)\n",
    "        lstm_out, (hidden, _) = self.lstm(embedded)\n",
    "        \n",
    "        # Use the last time step's hidden state\n",
    "        hidden = torch.cat((hidden[-2,:,:], hidden[-1,:,:]), dim=1)\n",
    "        out = self.dropout(hidden)\n",
    "        out = torch.relu(self.fc1(out))\n",
    "        out = torch.sigmoid(self.fc2(out))\n",
    "        return out"
   ]
  },
  {
   "cell_type": "code",
   "execution_count": 6,
   "metadata": {
    "execution": {
     "iopub.execute_input": "2024-11-04T16:47:14.426281Z",
     "iopub.status.busy": "2024-11-04T16:47:14.426078Z",
     "iopub.status.idle": "2024-11-04T16:47:14.445013Z",
     "shell.execute_reply": "2024-11-04T16:47:14.444497Z"
    }
   },
   "outputs": [],
   "source": [
    "# Detector class to handle training and prediction\n",
    "class XSSDetector:\n",
    "    def __init__(self, max_len: int = 100, device: str = None):\n",
    "        if device is None:\n",
    "            self.device = torch.device('cuda' if torch.cuda.is_available() else 'cpu')\n",
    "        else:\n",
    "            self.device = torch.device(device)\n",
    "        \n",
    "        self.max_len = max_len\n",
    "        self.preprocessor = TextPreprocessor(max_len)\n",
    "        self.model = None\n",
    "        self.training_losses = []\n",
    "        self.validation_losses = []\n",
    "    \n",
    "    def train(self, texts: List[str], labels: List[int], \n",
    "              epochs: int = 20, batch_size: int = 32, learning_rates: List[float] = [0.001, 0.002, 0.01, 0.02, 0.05],\n",
    "              val_split: float = 0.1):\n",
    "        \n",
    "        # Build vocabulary and create dataset as before...\n",
    "        self.preprocessor.build_vocab(texts)\n",
    "        dataset = XSSDataset(texts, labels, self.preprocessor)\n",
    "        \n",
    "        # Split dataset and create loaders...\n",
    "        val_size = int(len(dataset) * 0.2)\n",
    "        test_size = int(len(dataset) * 0.1)\n",
    "        train_size = len(dataset) - val_size - test_size\n",
    "\n",
    "        train_dataset, val_dataset, test_dataset = torch.utils.data.random_split(\n",
    "            dataset, [train_size, val_size, test_size]\n",
    "        )\n",
    "\n",
    "        train_loader = DataLoader(train_dataset, batch_size=batch_size, shuffle=True)\n",
    "        val_loader = DataLoader(val_dataset, batch_size=batch_size)\n",
    "        test_loader = DataLoader(test_dataset, batch_size=batch_size)\n",
    "        \n",
    "        # Initialize model...\n",
    "        self.model = XSSDetectorLSTM(\n",
    "            vocab_size=self.preprocessor.vocab_size,\n",
    "            embedding_dim=50\n",
    "        ).to(self.device)\n",
    "        \n",
    "        for lr in learning_rates:\n",
    "            print(f\"Training with learning rate: {lr}\")\n",
    "\n",
    "            optimizer = torch.optim.Adam(self.model.parameters(), lr=lr)\n",
    "            criterion = nn.BCELoss()\n",
    "\n",
    "            \n",
    "            # Lists to store losses\n",
    "            self.training_losses = []\n",
    "            self.validation_losses = []\n",
    "            \n",
    "            # Training loop\n",
    "            for epoch in range(epochs):\n",
    "                self.model.train()\n",
    "                total_loss = 0\n",
    "                correct = 0\n",
    "                total = 0\n",
    "                \n",
    "                for batch_sequences, batch_labels in train_loader:\n",
    "                    batch_sequences = batch_sequences.to(self.device)\n",
    "                    batch_labels = batch_labels.to(self.device)\n",
    "                    \n",
    "                    optimizer.zero_grad()\n",
    "                    outputs = self.model(batch_sequences).squeeze()\n",
    "                    loss = criterion(outputs, batch_labels)\n",
    "                    loss.backward()\n",
    "                    optimizer.step()\n",
    "                    \n",
    "                    total_loss += loss.item()\n",
    "                    \n",
    "                    predictions = (outputs >= 0.5).float()\n",
    "                    correct += (predictions == batch_labels).sum().item()\n",
    "                    total += len(batch_labels)\n",
    "                \n",
    "                # Calculate average training loss for this epoch\n",
    "                avg_train_loss = total_loss / len(train_loader)\n",
    "                self.training_losses.append(avg_train_loss)\n",
    "                \n",
    "                # Validation\n",
    "                self.model.eval()\n",
    "                val_loss = 0\n",
    "                val_correct = 0\n",
    "                val_total = 0\n",
    "                val_predictions = []\n",
    "                val_true_labels = []\n",
    "\n",
    "                with torch.no_grad():\n",
    "                    for batch_sequences, batch_labels in val_loader:\n",
    "                        batch_sequences = batch_sequences.to(self.device)\n",
    "                        batch_labels = batch_labels.to(self.device)\n",
    "                        \n",
    "                        outputs = self.model(batch_sequences).squeeze()\n",
    "                        val_loss += criterion(outputs, batch_labels).item()\n",
    "                        \n",
    "                        predictions = (outputs >= 0.5).float()\n",
    "                        val_correct += (predictions == batch_labels).sum().item()\n",
    "                        val_total += len(batch_labels)\n",
    "\n",
    "                        val_predictions.extend(predictions.cpu().numpy())\n",
    "                        val_true_labels.extend(batch_labels.cpu().numpy())\n",
    "\n",
    "                # Calculate average validation loss for this epoch\n",
    "                avg_val_loss = val_loss / len(val_loader)\n",
    "                self.validation_losses.append(avg_val_loss)\n",
    "\n",
    "                val_f1 = f1_score(val_true_labels, val_predictions)\n",
    "\n",
    "                print(f'Epoch {epoch+1}/{epochs}:')\n",
    "                print(f'Training Loss: {avg_train_loss:.4f}')\n",
    "                print(f'Training Accuracy: {100*correct/total:.2f}%')\n",
    "                print(f'Validation Loss: {avg_val_loss:.4f}')\n",
    "                print(f'Validation Accuracy: {100*val_correct/val_total:.2f}%')\n",
    "                print(f'Validation F1 Score: {val_f1:.4f}')"
   ]
  },
  {
   "cell_type": "code",
   "execution_count": 7,
   "metadata": {
    "execution": {
     "iopub.execute_input": "2024-11-04T16:47:14.446909Z",
     "iopub.status.busy": "2024-11-04T16:47:14.446690Z",
     "iopub.status.idle": "2024-11-04T16:47:14.457474Z",
     "shell.execute_reply": "2024-11-04T16:47:14.457046Z"
    }
   },
   "outputs": [],
   "source": [
    "# Function to demonstrate the detector with example inputs\n",
    "def demo_detector():\n",
    "    # Load dataset\n",
    "    data = pd.read_csv('dataset/XSS_dataset.csv')\n",
    "    texts = data['Sentence'].tolist()\n",
    "    labels = data['Label'].tolist()\n",
    "    \n",
    "    # Initialize detector\n",
    "    detector = XSSDetector(max_len=100)\n",
    "    \n",
    "    # List of learning rates to try\n",
    "    learning_rates = [0.001, 0.002, 0.01, 0.02, 0.05]\n",
    "    \n",
    "    # Store losses for each learning rate\n",
    "    all_training_losses = []\n",
    "    all_validation_losses = []\n",
    "    \n",
    "    for lr in learning_rates:\n",
    "        print(f\"\\nTraining with learning rate: {lr}\")\n",
    "        \n",
    "        # Reset training and validation losses for each learning rate\n",
    "        detector.training_losses = []\n",
    "        detector.validation_losses = []\n",
    "        \n",
    "        # Train model with the specified learning rate\n",
    "        detector.train(\n",
    "            texts=texts,\n",
    "            labels=labels,\n",
    "            epochs=20,\n",
    "            batch_size=32,\n",
    "            learning_rates=[lr]\n",
    "        )\n",
    "        \n",
    "        # Append losses for plotting later\n",
    "        all_training_losses.append(detector.training_losses)\n",
    "        all_validation_losses.append(detector.validation_losses)\n",
    "    \n",
    "\n",
    "    # Plot training and validation losses for each learning rate\n",
    "    import matplotlib.pyplot as plt\n",
    "\n",
    "    plt.figure(figsize=(12, 8))\n",
    "    for i, lr in enumerate(learning_rates):\n",
    "        plt.plot(range(1, len(all_training_losses[i]) + 1), all_training_losses[i], label=f'Train Loss (lr={lr})')\n",
    "        plt.plot(range(1, len(all_validation_losses[i]) + 1), all_validation_losses[i], linestyle='--', label=f'Val Loss (lr={lr})')\n",
    "    \n",
    "    plt.xlabel('Epoch')\n",
    "    plt.ylabel('Loss')\n",
    "    plt.title('Training and Validation Loss for Different Learning Rates')\n",
    "    plt.legend()\n",
    "    plt.grid(True)\n",
    "    plt.show()\n",
    "\n",
    "    # Test with some example cases\n",
    "    test_cases = [\n",
    "        \"<script>alert(1)</script>\",\n",
    "        \"<img src='x' onerror='alert(1)'>\",\n",
    "        \"<a href='/wiki/Portal:Philosophy'>Philosophy portal</a>\",\n",
    "        \"<span class='reference-text'>Normal text</span>\"\n",
    "    ]\n",
    "    \n",
    "    print(\"\\nTesting some examples:\")\n",
    "    for test_input in test_cases:\n",
    "        risk_score = detector.predict(test_input)\n",
    "        print(f\"Risk score for '{test_input}': {risk_score:.3f}\")\n",
    "\n"
   ]
  },
  {
   "cell_type": "code",
   "execution_count": 8,
   "metadata": {
    "execution": {
     "iopub.execute_input": "2024-11-04T16:47:14.459348Z",
     "iopub.status.busy": "2024-11-04T16:47:14.459155Z",
     "iopub.status.idle": "2024-11-04T17:24:15.422664Z",
     "shell.execute_reply": "2024-11-04T17:24:15.422261Z"
    }
   },
   "outputs": [
    {
     "name": "stdout",
     "output_type": "stream",
     "text": [
      "\n",
      "Training with learning rate: 0.001\n"
     ]
    },
    {
     "name": "stdout",
     "output_type": "stream",
     "text": [
      "Training with learning rate: 0.001\n"
     ]
    },
    {
     "name": "stdout",
     "output_type": "stream",
     "text": [
      "Preprocessed input 0: [2, 3, 4, 2, 5, 6, 7, 8, 9, 10, 9, 11, 8, 12, 7, 8, 13, 8, 4, 2, 14, 15, 7, 8, 16, 8, 17, 7, 8, 9, 9, 18, 9, 19, 9, 20, 9, 21, 9, 22, 9, 23, 9, 16, 9, 24, 8, 25, 7, 8, 26, 8, 27, 7, 8, 28, 8, 29, 7, 8, 30, 8, 12, 7, 8, 31, 8, 32, 7, 8, 9, 9, 18, 9, 19, 9, 20, 9, 21, 9, 22, 9, 23, 9, 16, 9, 33, 34, 9, 9, 18, 9, 19, 9, 20, 9, 21, 9, 22, 9]\n"
     ]
    },
    {
     "name": "stdout",
     "output_type": "stream",
     "text": [
      "Epoch 1/20:\n",
      "Training Loss: 0.0994\n",
      "Training Accuracy: 96.20%\n",
      "Validation Loss: 0.0302\n",
      "Validation Accuracy: 98.39%\n",
      "Validation F1 Score: 0.9855\n"
     ]
    },
    {
     "name": "stdout",
     "output_type": "stream",
     "text": [
      "Epoch 2/20:\n",
      "Training Loss: 0.0239\n",
      "Training Accuracy: 99.04%\n",
      "Validation Loss: 0.0276\n",
      "Validation Accuracy: 99.01%\n",
      "Validation F1 Score: 0.9912\n"
     ]
    },
    {
     "name": "stdout",
     "output_type": "stream",
     "text": [
      "Epoch 3/20:\n",
      "Training Loss: 0.0167\n",
      "Training Accuracy: 99.39%\n",
      "Validation Loss: 0.0208\n",
      "Validation Accuracy: 99.01%\n",
      "Validation F1 Score: 0.9912\n"
     ]
    },
    {
     "name": "stdout",
     "output_type": "stream",
     "text": [
      "Epoch 4/20:\n",
      "Training Loss: 0.0111\n",
      "Training Accuracy: 99.59%\n",
      "Validation Loss: 0.0140\n",
      "Validation Accuracy: 99.45%\n",
      "Validation F1 Score: 0.9951\n"
     ]
    },
    {
     "name": "stdout",
     "output_type": "stream",
     "text": [
      "Epoch 5/20:\n",
      "Training Loss: 0.0092\n",
      "Training Accuracy: 99.72%\n",
      "Validation Loss: 0.0157\n",
      "Validation Accuracy: 99.38%\n",
      "Validation F1 Score: 0.9945\n"
     ]
    },
    {
     "name": "stdout",
     "output_type": "stream",
     "text": [
      "Epoch 6/20:\n",
      "Training Loss: 0.0059\n",
      "Training Accuracy: 99.81%\n",
      "Validation Loss: 0.0144\n",
      "Validation Accuracy: 99.49%\n",
      "Validation F1 Score: 0.9954\n"
     ]
    },
    {
     "name": "stdout",
     "output_type": "stream",
     "text": [
      "Epoch 7/20:\n",
      "Training Loss: 0.0047\n",
      "Training Accuracy: 99.80%\n",
      "Validation Loss: 0.0145\n",
      "Validation Accuracy: 99.56%\n",
      "Validation F1 Score: 0.9961\n"
     ]
    },
    {
     "name": "stdout",
     "output_type": "stream",
     "text": [
      "Epoch 8/20:\n",
      "Training Loss: 0.0036\n",
      "Training Accuracy: 99.85%\n",
      "Validation Loss: 0.0205\n",
      "Validation Accuracy: 99.34%\n",
      "Validation F1 Score: 0.9941\n"
     ]
    },
    {
     "name": "stdout",
     "output_type": "stream",
     "text": [
      "Epoch 9/20:\n",
      "Training Loss: 0.0042\n",
      "Training Accuracy: 99.89%\n",
      "Validation Loss: 0.0204\n",
      "Validation Accuracy: 99.34%\n",
      "Validation F1 Score: 0.9941\n"
     ]
    },
    {
     "name": "stdout",
     "output_type": "stream",
     "text": [
      "Epoch 10/20:\n",
      "Training Loss: 0.0044\n",
      "Training Accuracy: 99.86%\n",
      "Validation Loss: 0.0180\n",
      "Validation Accuracy: 99.27%\n",
      "Validation F1 Score: 0.9935\n"
     ]
    },
    {
     "name": "stdout",
     "output_type": "stream",
     "text": [
      "Epoch 11/20:\n",
      "Training Loss: 0.0025\n",
      "Training Accuracy: 99.92%\n",
      "Validation Loss: 0.0240\n",
      "Validation Accuracy: 99.45%\n",
      "Validation F1 Score: 0.9951\n"
     ]
    },
    {
     "name": "stdout",
     "output_type": "stream",
     "text": [
      "Epoch 12/20:\n",
      "Training Loss: 0.0025\n",
      "Training Accuracy: 99.89%\n",
      "Validation Loss: 0.0184\n",
      "Validation Accuracy: 99.45%\n",
      "Validation F1 Score: 0.9951\n"
     ]
    },
    {
     "name": "stdout",
     "output_type": "stream",
     "text": [
      "Epoch 13/20:\n",
      "Training Loss: 0.0028\n",
      "Training Accuracy: 99.91%\n",
      "Validation Loss: 0.0181\n",
      "Validation Accuracy: 99.45%\n",
      "Validation F1 Score: 0.9951\n"
     ]
    },
    {
     "name": "stdout",
     "output_type": "stream",
     "text": [
      "Epoch 14/20:\n",
      "Training Loss: 0.0016\n",
      "Training Accuracy: 99.94%\n",
      "Validation Loss: 0.0178\n",
      "Validation Accuracy: 99.49%\n",
      "Validation F1 Score: 0.9954\n"
     ]
    },
    {
     "name": "stdout",
     "output_type": "stream",
     "text": [
      "Epoch 15/20:\n",
      "Training Loss: 0.0014\n",
      "Training Accuracy: 99.95%\n",
      "Validation Loss: 0.0183\n",
      "Validation Accuracy: 99.49%\n",
      "Validation F1 Score: 0.9954\n"
     ]
    },
    {
     "name": "stdout",
     "output_type": "stream",
     "text": [
      "Epoch 16/20:\n",
      "Training Loss: 0.0013\n",
      "Training Accuracy: 99.95%\n",
      "Validation Loss: 0.0206\n",
      "Validation Accuracy: 99.45%\n",
      "Validation F1 Score: 0.9951\n"
     ]
    },
    {
     "name": "stdout",
     "output_type": "stream",
     "text": [
      "Epoch 17/20:\n",
      "Training Loss: 0.0014\n",
      "Training Accuracy: 99.95%\n",
      "Validation Loss: 0.0209\n",
      "Validation Accuracy: 99.45%\n",
      "Validation F1 Score: 0.9951\n"
     ]
    },
    {
     "name": "stdout",
     "output_type": "stream",
     "text": [
      "Epoch 18/20:\n",
      "Training Loss: 0.0014\n",
      "Training Accuracy: 99.95%\n",
      "Validation Loss: 0.0237\n",
      "Validation Accuracy: 99.45%\n",
      "Validation F1 Score: 0.9951\n"
     ]
    },
    {
     "name": "stdout",
     "output_type": "stream",
     "text": [
      "Epoch 19/20:\n",
      "Training Loss: 0.0014\n",
      "Training Accuracy: 99.95%\n",
      "Validation Loss: 0.0211\n",
      "Validation Accuracy: 99.49%\n",
      "Validation F1 Score: 0.9954\n"
     ]
    },
    {
     "name": "stdout",
     "output_type": "stream",
     "text": [
      "Epoch 20/20:\n",
      "Training Loss: 0.0016\n",
      "Training Accuracy: 99.93%\n",
      "Validation Loss: 0.0254\n",
      "Validation Accuracy: 99.49%\n",
      "Validation F1 Score: 0.9954\n",
      "\n",
      "Training with learning rate: 0.002\n"
     ]
    },
    {
     "name": "stdout",
     "output_type": "stream",
     "text": [
      "Training with learning rate: 0.002\n"
     ]
    },
    {
     "name": "stdout",
     "output_type": "stream",
     "text": [
      "Preprocessed input 2: [2, 9, 49, 4, 2, 49, 12, 7, 8, 50, 8, 4, 51, 52, 53, 1, 8, 2, 5, 6, 7, 8, 9, 10, 9, 1, 8, 12, 7, 8, 54, 8, 42, 7, 8, 55, 56, 57, 58, 8, 4, 59, 1, 60, 61, 2, 9, 5, 4, 8, 62, 8, 63, 5, 64, 65, 1, 8, 66, 0, 0, 0, 0, 0, 0, 0, 0, 0, 0, 0, 0, 0, 0, 0, 0, 0, 0, 0, 0, 0, 0, 0, 0, 0, 0, 0, 0, 0, 0, 0, 0, 0, 0, 0, 0, 0, 0, 0, 0, 0]\n"
     ]
    },
    {
     "name": "stdout",
     "output_type": "stream",
     "text": [
      "Epoch 1/20:\n",
      "Training Loss: 0.0756\n",
      "Training Accuracy: 96.92%\n",
      "Validation Loss: 0.0257\n",
      "Validation Accuracy: 99.09%\n",
      "Validation F1 Score: 0.9915\n"
     ]
    },
    {
     "name": "stdout",
     "output_type": "stream",
     "text": [
      "Epoch 2/20:\n",
      "Training Loss: 0.0178\n",
      "Training Accuracy: 99.36%\n",
      "Validation Loss: 0.0132\n",
      "Validation Accuracy: 99.53%\n",
      "Validation F1 Score: 0.9956\n"
     ]
    },
    {
     "name": "stdout",
     "output_type": "stream",
     "text": [
      "Epoch 3/20:\n",
      "Training Loss: 0.0090\n",
      "Training Accuracy: 99.63%\n",
      "Validation Loss: 0.0108\n",
      "Validation Accuracy: 99.56%\n",
      "Validation F1 Score: 0.9959\n"
     ]
    },
    {
     "name": "stdout",
     "output_type": "stream",
     "text": [
      "Epoch 4/20:\n",
      "Training Loss: 0.0056\n",
      "Training Accuracy: 99.72%\n",
      "Validation Loss: 0.0111\n",
      "Validation Accuracy: 99.56%\n",
      "Validation F1 Score: 0.9959\n"
     ]
    },
    {
     "name": "stdout",
     "output_type": "stream",
     "text": [
      "Epoch 5/20:\n",
      "Training Loss: 0.0097\n",
      "Training Accuracy: 99.65%\n",
      "Validation Loss: 0.0155\n",
      "Validation Accuracy: 99.45%\n",
      "Validation F1 Score: 0.9949\n"
     ]
    },
    {
     "name": "stdout",
     "output_type": "stream",
     "text": [
      "Epoch 6/20:\n",
      "Training Loss: 0.0056\n",
      "Training Accuracy: 99.79%\n",
      "Validation Loss: 0.0104\n",
      "Validation Accuracy: 99.63%\n",
      "Validation F1 Score: 0.9966\n"
     ]
    },
    {
     "name": "stdout",
     "output_type": "stream",
     "text": [
      "Epoch 7/20:\n",
      "Training Loss: 0.0035\n",
      "Training Accuracy: 99.84%\n",
      "Validation Loss: 0.0126\n",
      "Validation Accuracy: 99.67%\n",
      "Validation F1 Score: 0.9969\n"
     ]
    },
    {
     "name": "stdout",
     "output_type": "stream",
     "text": [
      "Epoch 8/20:\n",
      "Training Loss: 0.0022\n",
      "Training Accuracy: 99.86%\n",
      "Validation Loss: 0.0133\n",
      "Validation Accuracy: 99.74%\n",
      "Validation F1 Score: 0.9976\n"
     ]
    },
    {
     "name": "stdout",
     "output_type": "stream",
     "text": [
      "Epoch 9/20:\n",
      "Training Loss: 0.0042\n",
      "Training Accuracy: 99.86%\n",
      "Validation Loss: 0.0129\n",
      "Validation Accuracy: 99.63%\n",
      "Validation F1 Score: 0.9966\n"
     ]
    },
    {
     "name": "stdout",
     "output_type": "stream",
     "text": [
      "Epoch 10/20:\n",
      "Training Loss: 0.0020\n",
      "Training Accuracy: 99.93%\n",
      "Validation Loss: 0.0156\n",
      "Validation Accuracy: 99.53%\n",
      "Validation F1 Score: 0.9955\n"
     ]
    },
    {
     "name": "stdout",
     "output_type": "stream",
     "text": [
      "Epoch 11/20:\n",
      "Training Loss: 0.0018\n",
      "Training Accuracy: 99.95%\n",
      "Validation Loss: 0.0165\n",
      "Validation Accuracy: 99.63%\n",
      "Validation F1 Score: 0.9966\n"
     ]
    },
    {
     "name": "stdout",
     "output_type": "stream",
     "text": [
      "Epoch 12/20:\n",
      "Training Loss: 0.0040\n",
      "Training Accuracy: 99.86%\n",
      "Validation Loss: 0.0139\n",
      "Validation Accuracy: 99.60%\n",
      "Validation F1 Score: 0.9962\n"
     ]
    },
    {
     "name": "stdout",
     "output_type": "stream",
     "text": [
      "Epoch 13/20:\n",
      "Training Loss: 0.0028\n",
      "Training Accuracy: 99.90%\n",
      "Validation Loss: 0.0140\n",
      "Validation Accuracy: 99.71%\n",
      "Validation F1 Score: 0.9973\n"
     ]
    },
    {
     "name": "stdout",
     "output_type": "stream",
     "text": [
      "Epoch 14/20:\n",
      "Training Loss: 0.0013\n",
      "Training Accuracy: 99.93%\n",
      "Validation Loss: 0.0144\n",
      "Validation Accuracy: 99.71%\n",
      "Validation F1 Score: 0.9973\n"
     ]
    },
    {
     "name": "stdout",
     "output_type": "stream",
     "text": [
      "Epoch 15/20:\n",
      "Training Loss: 0.0016\n",
      "Training Accuracy: 99.91%\n",
      "Validation Loss: 0.0153\n",
      "Validation Accuracy: 99.71%\n",
      "Validation F1 Score: 0.9973\n"
     ]
    },
    {
     "name": "stdout",
     "output_type": "stream",
     "text": [
      "Epoch 16/20:\n",
      "Training Loss: 0.0015\n",
      "Training Accuracy: 99.93%\n",
      "Validation Loss: 0.0158\n",
      "Validation Accuracy: 99.71%\n",
      "Validation F1 Score: 0.9973\n"
     ]
    },
    {
     "name": "stdout",
     "output_type": "stream",
     "text": [
      "Epoch 17/20:\n",
      "Training Loss: 0.0013\n",
      "Training Accuracy: 99.95%\n",
      "Validation Loss: 0.0190\n",
      "Validation Accuracy: 99.67%\n",
      "Validation F1 Score: 0.9969\n"
     ]
    },
    {
     "name": "stdout",
     "output_type": "stream",
     "text": [
      "Epoch 18/20:\n",
      "Training Loss: 0.0014\n",
      "Training Accuracy: 99.93%\n",
      "Validation Loss: 0.0180\n",
      "Validation Accuracy: 99.71%\n",
      "Validation F1 Score: 0.9973\n"
     ]
    },
    {
     "name": "stdout",
     "output_type": "stream",
     "text": [
      "Epoch 19/20:\n",
      "Training Loss: 0.0014\n",
      "Training Accuracy: 99.93%\n",
      "Validation Loss: 0.0156\n",
      "Validation Accuracy: 99.71%\n",
      "Validation F1 Score: 0.9973\n"
     ]
    },
    {
     "name": "stdout",
     "output_type": "stream",
     "text": [
      "Epoch 20/20:\n",
      "Training Loss: 0.0013\n",
      "Training Accuracy: 99.95%\n",
      "Validation Loss: 0.0195\n",
      "Validation Accuracy: 99.67%\n",
      "Validation F1 Score: 0.9969\n",
      "\n",
      "Training with learning rate: 0.01\n"
     ]
    },
    {
     "name": "stdout",
     "output_type": "stream",
     "text": [
      "Training with learning rate: 0.01\n"
     ]
    },
    {
     "name": "stdout",
     "output_type": "stream",
     "text": [
      "Preprocessed input 2: [2, 9, 49, 4, 2, 49, 12, 7, 8, 50, 8, 4, 51, 52, 53, 1, 8, 2, 5, 6, 7, 8, 9, 10, 9, 1, 8, 12, 7, 8, 54, 8, 42, 7, 8, 55, 56, 57, 58, 8, 4, 59, 1, 60, 61, 2, 9, 5, 4, 8, 62, 8, 63, 5, 64, 65, 1, 8, 66, 0, 0, 0, 0, 0, 0, 0, 0, 0, 0, 0, 0, 0, 0, 0, 0, 0, 0, 0, 0, 0, 0, 0, 0, 0, 0, 0, 0, 0, 0, 0, 0, 0, 0, 0, 0, 0, 0, 0, 0, 0]\n"
     ]
    },
    {
     "name": "stdout",
     "output_type": "stream",
     "text": [
      "Epoch 1/20:\n",
      "Training Loss: 0.0621\n",
      "Training Accuracy: 97.75%\n",
      "Validation Loss: 0.0258\n",
      "Validation Accuracy: 99.05%\n",
      "Validation F1 Score: 0.9910\n"
     ]
    },
    {
     "name": "stdout",
     "output_type": "stream",
     "text": [
      "Epoch 2/20:\n",
      "Training Loss: 0.0230\n",
      "Training Accuracy: 99.14%\n",
      "Validation Loss: 0.0153\n",
      "Validation Accuracy: 98.98%\n",
      "Validation F1 Score: 0.9905\n"
     ]
    },
    {
     "name": "stdout",
     "output_type": "stream",
     "text": [
      "Epoch 3/20:\n",
      "Training Loss: 0.0159\n",
      "Training Accuracy: 99.56%\n",
      "Validation Loss: 0.0188\n",
      "Validation Accuracy: 99.45%\n",
      "Validation F1 Score: 0.9949\n"
     ]
    },
    {
     "name": "stdout",
     "output_type": "stream",
     "text": [
      "Epoch 4/20:\n",
      "Training Loss: 0.0093\n",
      "Training Accuracy: 99.75%\n",
      "Validation Loss: 0.0076\n",
      "Validation Accuracy: 99.74%\n",
      "Validation F1 Score: 0.9976\n"
     ]
    },
    {
     "name": "stdout",
     "output_type": "stream",
     "text": [
      "Epoch 5/20:\n",
      "Training Loss: 0.0040\n",
      "Training Accuracy: 99.86%\n",
      "Validation Loss: 0.0069\n",
      "Validation Accuracy: 99.71%\n",
      "Validation F1 Score: 0.9973\n"
     ]
    },
    {
     "name": "stdout",
     "output_type": "stream",
     "text": [
      "Epoch 6/20:\n",
      "Training Loss: 0.0125\n",
      "Training Accuracy: 99.91%\n",
      "Validation Loss: 0.0143\n",
      "Validation Accuracy: 99.56%\n",
      "Validation F1 Score: 0.9959\n"
     ]
    },
    {
     "name": "stdout",
     "output_type": "stream",
     "text": [
      "Epoch 7/20:\n",
      "Training Loss: 0.0043\n",
      "Training Accuracy: 99.90%\n",
      "Validation Loss: 0.0098\n",
      "Validation Accuracy: 99.60%\n",
      "Validation F1 Score: 0.9962\n"
     ]
    },
    {
     "name": "stdout",
     "output_type": "stream",
     "text": [
      "Epoch 8/20:\n",
      "Training Loss: 0.0036\n",
      "Training Accuracy: 99.91%\n",
      "Validation Loss: 0.0100\n",
      "Validation Accuracy: 99.60%\n",
      "Validation F1 Score: 0.9962\n"
     ]
    },
    {
     "name": "stdout",
     "output_type": "stream",
     "text": [
      "Epoch 9/20:\n",
      "Training Loss: 0.0088\n",
      "Training Accuracy: 99.76%\n",
      "Validation Loss: 0.0119\n",
      "Validation Accuracy: 99.63%\n",
      "Validation F1 Score: 0.9966\n"
     ]
    },
    {
     "name": "stdout",
     "output_type": "stream",
     "text": [
      "Epoch 10/20:\n",
      "Training Loss: 0.0032\n",
      "Training Accuracy: 99.94%\n",
      "Validation Loss: 0.0113\n",
      "Validation Accuracy: 99.63%\n",
      "Validation F1 Score: 0.9966\n"
     ]
    },
    {
     "name": "stdout",
     "output_type": "stream",
     "text": [
      "Epoch 11/20:\n",
      "Training Loss: 0.0063\n",
      "Training Accuracy: 99.82%\n",
      "Validation Loss: 0.0116\n",
      "Validation Accuracy: 99.56%\n",
      "Validation F1 Score: 0.9959\n"
     ]
    },
    {
     "name": "stdout",
     "output_type": "stream",
     "text": [
      "Epoch 12/20:\n",
      "Training Loss: 0.0041\n",
      "Training Accuracy: 99.84%\n",
      "Validation Loss: 0.0080\n",
      "Validation Accuracy: 99.63%\n",
      "Validation F1 Score: 0.9966\n"
     ]
    },
    {
     "name": "stdout",
     "output_type": "stream",
     "text": [
      "Epoch 13/20:\n",
      "Training Loss: 0.0018\n",
      "Training Accuracy: 99.91%\n",
      "Validation Loss: 0.0187\n",
      "Validation Accuracy: 99.63%\n",
      "Validation F1 Score: 0.9966\n"
     ]
    },
    {
     "name": "stdout",
     "output_type": "stream",
     "text": [
      "Epoch 14/20:\n",
      "Training Loss: 0.0035\n",
      "Training Accuracy: 99.92%\n",
      "Validation Loss: 0.0170\n",
      "Validation Accuracy: 99.60%\n",
      "Validation F1 Score: 0.9962\n"
     ]
    },
    {
     "name": "stdout",
     "output_type": "stream",
     "text": [
      "Epoch 15/20:\n",
      "Training Loss: 0.0021\n",
      "Training Accuracy: 99.92%\n",
      "Validation Loss: 0.0093\n",
      "Validation Accuracy: 99.71%\n",
      "Validation F1 Score: 0.9973\n"
     ]
    },
    {
     "name": "stdout",
     "output_type": "stream",
     "text": [
      "Epoch 16/20:\n",
      "Training Loss: 0.0021\n",
      "Training Accuracy: 99.92%\n",
      "Validation Loss: 0.0122\n",
      "Validation Accuracy: 99.60%\n",
      "Validation F1 Score: 0.9962\n"
     ]
    },
    {
     "name": "stdout",
     "output_type": "stream",
     "text": [
      "Epoch 17/20:\n",
      "Training Loss: 0.0011\n",
      "Training Accuracy: 99.96%\n",
      "Validation Loss: 0.0162\n",
      "Validation Accuracy: 99.60%\n",
      "Validation F1 Score: 0.9962\n"
     ]
    },
    {
     "name": "stdout",
     "output_type": "stream",
     "text": [
      "Epoch 18/20:\n",
      "Training Loss: 0.0022\n",
      "Training Accuracy: 99.95%\n",
      "Validation Loss: 0.0099\n",
      "Validation Accuracy: 99.67%\n",
      "Validation F1 Score: 0.9969\n"
     ]
    },
    {
     "name": "stdout",
     "output_type": "stream",
     "text": [
      "Epoch 19/20:\n",
      "Training Loss: 0.0038\n",
      "Training Accuracy: 99.91%\n",
      "Validation Loss: 0.0100\n",
      "Validation Accuracy: 99.67%\n",
      "Validation F1 Score: 0.9969\n"
     ]
    },
    {
     "name": "stdout",
     "output_type": "stream",
     "text": [
      "Epoch 20/20:\n",
      "Training Loss: 0.0018\n",
      "Training Accuracy: 99.95%\n",
      "Validation Loss: 0.0132\n",
      "Validation Accuracy: 99.56%\n",
      "Validation F1 Score: 0.9959\n",
      "\n",
      "Training with learning rate: 0.02\n"
     ]
    },
    {
     "name": "stdout",
     "output_type": "stream",
     "text": [
      "Training with learning rate: 0.02\n"
     ]
    },
    {
     "name": "stdout",
     "output_type": "stream",
     "text": [
      "Preprocessed input 1: [2, 45, 46, 7, 8, 47, 8, 4, 48, 2, 9, 45, 4, 0, 0, 0, 0, 0, 0, 0, 0, 0, 0, 0, 0, 0, 0, 0, 0, 0, 0, 0, 0, 0, 0, 0, 0, 0, 0, 0, 0, 0, 0, 0, 0, 0, 0, 0, 0, 0, 0, 0, 0, 0, 0, 0, 0, 0, 0, 0, 0, 0, 0, 0, 0, 0, 0, 0, 0, 0, 0, 0, 0, 0, 0, 0, 0, 0, 0, 0, 0, 0, 0, 0, 0, 0, 0, 0, 0, 0, 0, 0, 0, 0, 0, 0, 0, 0, 0, 0]\n"
     ]
    },
    {
     "name": "stdout",
     "output_type": "stream",
     "text": [
      "Epoch 1/20:\n",
      "Training Loss: 0.0623\n",
      "Training Accuracy: 97.67%\n",
      "Validation Loss: 0.0210\n",
      "Validation Accuracy: 99.05%\n",
      "Validation F1 Score: 0.9910\n"
     ]
    },
    {
     "name": "stdout",
     "output_type": "stream",
     "text": [
      "Epoch 2/20:\n",
      "Training Loss: 0.0132\n",
      "Training Accuracy: 99.42%\n",
      "Validation Loss: 0.0152\n",
      "Validation Accuracy: 99.49%\n",
      "Validation F1 Score: 0.9952\n"
     ]
    },
    {
     "name": "stdout",
     "output_type": "stream",
     "text": [
      "Epoch 3/20:\n",
      "Training Loss: 0.0122\n",
      "Training Accuracy: 99.46%\n",
      "Validation Loss: 0.0124\n",
      "Validation Accuracy: 99.63%\n",
      "Validation F1 Score: 0.9966\n"
     ]
    },
    {
     "name": "stdout",
     "output_type": "stream",
     "text": [
      "Epoch 4/20:\n",
      "Training Loss: 0.0105\n",
      "Training Accuracy: 99.67%\n",
      "Validation Loss: 0.0157\n",
      "Validation Accuracy: 99.12%\n",
      "Validation F1 Score: 0.9917\n"
     ]
    },
    {
     "name": "stdout",
     "output_type": "stream",
     "text": [
      "Epoch 5/20:\n",
      "Training Loss: 0.0175\n",
      "Training Accuracy: 99.45%\n",
      "Validation Loss: 0.0105\n",
      "Validation Accuracy: 99.63%\n",
      "Validation F1 Score: 0.9966\n"
     ]
    },
    {
     "name": "stdout",
     "output_type": "stream",
     "text": [
      "Epoch 6/20:\n",
      "Training Loss: 0.0164\n",
      "Training Accuracy: 99.49%\n",
      "Validation Loss: 0.0083\n",
      "Validation Accuracy: 99.78%\n",
      "Validation F1 Score: 0.9979\n"
     ]
    },
    {
     "name": "stdout",
     "output_type": "stream",
     "text": [
      "Epoch 7/20:\n",
      "Training Loss: 0.0088\n",
      "Training Accuracy: 99.71%\n",
      "Validation Loss: 0.0102\n",
      "Validation Accuracy: 99.74%\n",
      "Validation F1 Score: 0.9976\n"
     ]
    },
    {
     "name": "stdout",
     "output_type": "stream",
     "text": [
      "Epoch 8/20:\n",
      "Training Loss: 0.0102\n",
      "Training Accuracy: 99.70%\n",
      "Validation Loss: 0.0064\n",
      "Validation Accuracy: 99.67%\n",
      "Validation F1 Score: 0.9969\n"
     ]
    },
    {
     "name": "stdout",
     "output_type": "stream",
     "text": [
      "Epoch 9/20:\n",
      "Training Loss: 0.0089\n",
      "Training Accuracy: 99.76%\n",
      "Validation Loss: 0.0114\n",
      "Validation Accuracy: 99.63%\n",
      "Validation F1 Score: 0.9966\n"
     ]
    },
    {
     "name": "stdout",
     "output_type": "stream",
     "text": [
      "Epoch 10/20:\n",
      "Training Loss: 0.0177\n",
      "Training Accuracy: 99.41%\n",
      "Validation Loss: 0.0377\n",
      "Validation Accuracy: 98.98%\n",
      "Validation F1 Score: 0.9903\n"
     ]
    },
    {
     "name": "stdout",
     "output_type": "stream",
     "text": [
      "Epoch 11/20:\n",
      "Training Loss: 0.0232\n",
      "Training Accuracy: 99.39%\n",
      "Validation Loss: 0.0142\n",
      "Validation Accuracy: 99.42%\n",
      "Validation F1 Score: 0.9945\n"
     ]
    },
    {
     "name": "stdout",
     "output_type": "stream",
     "text": [
      "Epoch 12/20:\n",
      "Training Loss: 0.0118\n",
      "Training Accuracy: 99.65%\n",
      "Validation Loss: 0.0157\n",
      "Validation Accuracy: 99.42%\n",
      "Validation F1 Score: 0.9945\n"
     ]
    },
    {
     "name": "stdout",
     "output_type": "stream",
     "text": [
      "Epoch 13/20:\n",
      "Training Loss: 0.0108\n",
      "Training Accuracy: 99.59%\n",
      "Validation Loss: 0.0237\n",
      "Validation Accuracy: 99.38%\n",
      "Validation F1 Score: 0.9941\n"
     ]
    },
    {
     "name": "stdout",
     "output_type": "stream",
     "text": [
      "Epoch 14/20:\n",
      "Training Loss: 0.0105\n",
      "Training Accuracy: 99.67%\n",
      "Validation Loss: 0.0099\n",
      "Validation Accuracy: 99.60%\n",
      "Validation F1 Score: 0.9962\n"
     ]
    },
    {
     "name": "stdout",
     "output_type": "stream",
     "text": [
      "Epoch 15/20:\n",
      "Training Loss: 0.0091\n",
      "Training Accuracy: 99.69%\n",
      "Validation Loss: 0.0127\n",
      "Validation Accuracy: 99.45%\n",
      "Validation F1 Score: 0.9949\n"
     ]
    },
    {
     "name": "stdout",
     "output_type": "stream",
     "text": [
      "Epoch 16/20:\n",
      "Training Loss: 0.0081\n",
      "Training Accuracy: 99.72%\n",
      "Validation Loss: 0.1008\n",
      "Validation Accuracy: 98.14%\n",
      "Validation F1 Score: 0.9828\n"
     ]
    },
    {
     "name": "stdout",
     "output_type": "stream",
     "text": [
      "Epoch 17/20:\n",
      "Training Loss: 0.0239\n",
      "Training Accuracy: 99.07%\n",
      "Validation Loss: 0.0334\n",
      "Validation Accuracy: 98.90%\n",
      "Validation F1 Score: 0.9896\n"
     ]
    },
    {
     "name": "stdout",
     "output_type": "stream",
     "text": [
      "Epoch 18/20:\n",
      "Training Loss: 0.0295\n",
      "Training Accuracy: 99.34%\n",
      "Validation Loss: 0.0169\n",
      "Validation Accuracy: 99.53%\n",
      "Validation F1 Score: 0.9955\n"
     ]
    },
    {
     "name": "stdout",
     "output_type": "stream",
     "text": [
      "Epoch 19/20:\n",
      "Training Loss: 0.0086\n",
      "Training Accuracy: 99.70%\n",
      "Validation Loss: 0.0165\n",
      "Validation Accuracy: 99.63%\n",
      "Validation F1 Score: 0.9966\n"
     ]
    },
    {
     "name": "stdout",
     "output_type": "stream",
     "text": [
      "Epoch 20/20:\n",
      "Training Loss: 0.0143\n",
      "Training Accuracy: 99.56%\n",
      "Validation Loss: 0.0137\n",
      "Validation Accuracy: 99.38%\n",
      "Validation F1 Score: 0.9941\n",
      "\n",
      "Training with learning rate: 0.05\n"
     ]
    },
    {
     "name": "stdout",
     "output_type": "stream",
     "text": [
      "Training with learning rate: 0.05\n"
     ]
    },
    {
     "name": "stdout",
     "output_type": "stream",
     "text": [
      "Preprocessed input 0: [2, 3, 4, 2, 5, 6, 7, 8, 9, 10, 9, 11, 8, 12, 7, 8, 13, 8, 4, 2, 14, 15, 7, 8, 16, 8, 17, 7, 8, 9, 9, 18, 9, 19, 9, 20, 9, 21, 9, 22, 9, 23, 9, 16, 9, 24, 8, 25, 7, 8, 26, 8, 27, 7, 8, 28, 8, 29, 7, 8, 30, 8, 12, 7, 8, 31, 8, 32, 7, 8, 9, 9, 18, 9, 19, 9, 20, 9, 21, 9, 22, 9, 23, 9, 16, 9, 33, 34, 9, 9, 18, 9, 19, 9, 20, 9, 21, 9, 22, 9]\n"
     ]
    },
    {
     "name": "stdout",
     "output_type": "stream",
     "text": [
      "Epoch 1/20:\n",
      "Training Loss: 0.1555\n",
      "Training Accuracy: 93.58%\n",
      "Validation Loss: 0.0313\n",
      "Validation Accuracy: 99.09%\n",
      "Validation F1 Score: 0.9916\n"
     ]
    },
    {
     "name": "stdout",
     "output_type": "stream",
     "text": [
      "Epoch 2/20:\n",
      "Training Loss: 0.0510\n",
      "Training Accuracy: 98.41%\n",
      "Validation Loss: 0.0273\n",
      "Validation Accuracy: 99.09%\n",
      "Validation F1 Score: 0.9916\n"
     ]
    },
    {
     "name": "stdout",
     "output_type": "stream",
     "text": [
      "Epoch 3/20:\n",
      "Training Loss: 0.1265\n",
      "Training Accuracy: 95.57%\n",
      "Validation Loss: 0.2003\n",
      "Validation Accuracy: 91.96%\n",
      "Validation F1 Score: 0.9236\n"
     ]
    },
    {
     "name": "stdout",
     "output_type": "stream",
     "text": [
      "Epoch 4/20:\n",
      "Training Loss: 0.1989\n",
      "Training Accuracy: 92.77%\n",
      "Validation Loss: 0.1934\n",
      "Validation Accuracy: 92.69%\n",
      "Validation F1 Score: 0.9297\n"
     ]
    },
    {
     "name": "stdout",
     "output_type": "stream",
     "text": [
      "Epoch 5/20:\n",
      "Training Loss: 0.1603\n",
      "Training Accuracy: 94.81%\n",
      "Validation Loss: 0.0809\n",
      "Validation Accuracy: 97.33%\n",
      "Validation F1 Score: 0.9755\n"
     ]
    },
    {
     "name": "stdout",
     "output_type": "stream",
     "text": [
      "Epoch 6/20:\n",
      "Training Loss: 0.2196\n",
      "Training Accuracy: 91.73%\n",
      "Validation Loss: 0.2187\n",
      "Validation Accuracy: 92.14%\n",
      "Validation F1 Score: 0.9314\n"
     ]
    },
    {
     "name": "stdout",
     "output_type": "stream",
     "text": [
      "Epoch 7/20:\n",
      "Training Loss: 0.3620\n",
      "Training Accuracy: 85.57%\n",
      "Validation Loss: 0.2463\n",
      "Validation Accuracy: 92.51%\n",
      "Validation F1 Score: 0.9294\n"
     ]
    },
    {
     "name": "stdout",
     "output_type": "stream",
     "text": [
      "Epoch 8/20:\n",
      "Training Loss: 0.3559\n",
      "Training Accuracy: 84.70%\n",
      "Validation Loss: 0.3010\n",
      "Validation Accuracy: 88.16%\n",
      "Validation F1 Score: 0.8822\n"
     ]
    },
    {
     "name": "stdout",
     "output_type": "stream",
     "text": [
      "Epoch 9/20:\n",
      "Training Loss: 0.2880\n",
      "Training Accuracy: 88.36%\n",
      "Validation Loss: 0.1420\n",
      "Validation Accuracy: 95.43%\n",
      "Validation F1 Score: 0.9583\n"
     ]
    },
    {
     "name": "stdout",
     "output_type": "stream",
     "text": [
      "Epoch 10/20:\n",
      "Training Loss: 0.2371\n",
      "Training Accuracy: 90.90%\n",
      "Validation Loss: 0.1030\n",
      "Validation Accuracy: 97.37%\n",
      "Validation F1 Score: 0.9755\n"
     ]
    },
    {
     "name": "stdout",
     "output_type": "stream",
     "text": [
      "Epoch 11/20:\n",
      "Training Loss: 0.2067\n",
      "Training Accuracy: 92.17%\n",
      "Validation Loss: 0.0772\n",
      "Validation Accuracy: 97.88%\n",
      "Validation F1 Score: 0.9806\n"
     ]
    },
    {
     "name": "stdout",
     "output_type": "stream",
     "text": [
      "Epoch 12/20:\n",
      "Training Loss: 0.1883\n",
      "Training Accuracy: 92.37%\n",
      "Validation Loss: 0.0701\n",
      "Validation Accuracy: 97.73%\n",
      "Validation F1 Score: 0.9791\n"
     ]
    },
    {
     "name": "stdout",
     "output_type": "stream",
     "text": [
      "Epoch 13/20:\n",
      "Training Loss: 0.1698\n",
      "Training Accuracy: 93.46%\n",
      "Validation Loss: 0.0832\n",
      "Validation Accuracy: 96.68%\n",
      "Validation F1 Score: 0.9700\n"
     ]
    },
    {
     "name": "stdout",
     "output_type": "stream",
     "text": [
      "Epoch 14/20:\n",
      "Training Loss: 0.1770\n",
      "Training Accuracy: 93.45%\n",
      "Validation Loss: 0.0887\n",
      "Validation Accuracy: 96.38%\n",
      "Validation F1 Score: 0.9676\n"
     ]
    },
    {
     "name": "stdout",
     "output_type": "stream",
     "text": [
      "Epoch 15/20:\n",
      "Training Loss: 0.1476\n",
      "Training Accuracy: 94.33%\n",
      "Validation Loss: 0.0552\n",
      "Validation Accuracy: 98.47%\n",
      "Validation F1 Score: 0.9859\n"
     ]
    },
    {
     "name": "stdout",
     "output_type": "stream",
     "text": [
      "Epoch 16/20:\n",
      "Training Loss: 0.1570\n",
      "Training Accuracy: 93.94%\n",
      "Validation Loss: 0.0656\n",
      "Validation Accuracy: 98.50%\n",
      "Validation F1 Score: 0.9862\n"
     ]
    },
    {
     "name": "stdout",
     "output_type": "stream",
     "text": [
      "Epoch 17/20:\n",
      "Training Loss: 0.1609\n",
      "Training Accuracy: 94.00%\n",
      "Validation Loss: 0.0531\n",
      "Validation Accuracy: 98.17%\n",
      "Validation F1 Score: 0.9832\n"
     ]
    },
    {
     "name": "stdout",
     "output_type": "stream",
     "text": [
      "Epoch 18/20:\n",
      "Training Loss: 0.1400\n",
      "Training Accuracy: 94.77%\n",
      "Validation Loss: 0.0762\n",
      "Validation Accuracy: 97.41%\n",
      "Validation F1 Score: 0.9765\n"
     ]
    },
    {
     "name": "stdout",
     "output_type": "stream",
     "text": [
      "Epoch 19/20:\n",
      "Training Loss: 0.1304\n",
      "Training Accuracy: 95.33%\n",
      "Validation Loss: 0.0542\n",
      "Validation Accuracy: 98.10%\n",
      "Validation F1 Score: 0.9826\n"
     ]
    },
    {
     "name": "stdout",
     "output_type": "stream",
     "text": [
      "Epoch 20/20:\n",
      "Training Loss: 0.1117\n",
      "Training Accuracy: 96.04%\n",
      "Validation Loss: 0.0426\n",
      "Validation Accuracy: 98.58%\n",
      "Validation F1 Score: 0.9869\n"
     ]
    },
    {
     "data": {
      "image/png": "[encoded data removed]",
      "text/plain": [
       "<Figure size 1200x800 with 1 Axes>"
      ]
     },
     "metadata": {},
     "output_type": "display_data"
    },
    {
     "name": "stdout",
     "output_type": "stream",
     "text": [
      "\n",
      "Testing some examples:\n"
     ]
    },
    {
     "ename": "AttributeError",
     "evalue": "'XSSDetector' object has no attribute 'predict'",
     "output_type": "error",
     "traceback": [
      "\u001b[0;31m---------------------------------------------------------------------------\u001b[0m",
      "\u001b[0;31mAttributeError\u001b[0m                            Traceback (most recent call last)",
      "Cell \u001b[0;32mIn[8], line 3\u001b[0m\n\u001b[1;32m      1\u001b[0m \u001b[38;5;66;03m# Run demonstration\u001b[39;00m\n\u001b[1;32m      2\u001b[0m \u001b[38;5;28;01mif\u001b[39;00m \u001b[38;5;18m__name__\u001b[39m \u001b[38;5;241m==\u001b[39m \u001b[38;5;124m\"\u001b[39m\u001b[38;5;124m__main__\u001b[39m\u001b[38;5;124m\"\u001b[39m:\n\u001b[0;32m----> 3\u001b[0m     \u001b[43mdemo_detector\u001b[49m\u001b[43m(\u001b[49m\u001b[43m)\u001b[49m\n",
      "Cell \u001b[0;32mIn[7], line 64\u001b[0m, in \u001b[0;36mdemo_detector\u001b[0;34m()\u001b[0m\n\u001b[1;32m     62\u001b[0m \u001b[38;5;28mprint\u001b[39m(\u001b[38;5;124m\"\u001b[39m\u001b[38;5;130;01m\\n\u001b[39;00m\u001b[38;5;124mTesting some examples:\u001b[39m\u001b[38;5;124m\"\u001b[39m)\n\u001b[1;32m     63\u001b[0m \u001b[38;5;28;01mfor\u001b[39;00m test_input \u001b[38;5;129;01min\u001b[39;00m test_cases:\n\u001b[0;32m---> 64\u001b[0m     risk_score \u001b[38;5;241m=\u001b[39m \u001b[43mdetector\u001b[49m\u001b[38;5;241;43m.\u001b[39;49m\u001b[43mpredict\u001b[49m(test_input)\n\u001b[1;32m     65\u001b[0m     \u001b[38;5;28mprint\u001b[39m(\u001b[38;5;124mf\u001b[39m\u001b[38;5;124m\"\u001b[39m\u001b[38;5;124mRisk score for \u001b[39m\u001b[38;5;124m'\u001b[39m\u001b[38;5;132;01m{\u001b[39;00mtest_input\u001b[38;5;132;01m}\u001b[39;00m\u001b[38;5;124m'\u001b[39m\u001b[38;5;124m: \u001b[39m\u001b[38;5;132;01m{\u001b[39;00mrisk_score\u001b[38;5;132;01m:\u001b[39;00m\u001b[38;5;124m.3f\u001b[39m\u001b[38;5;132;01m}\u001b[39;00m\u001b[38;5;124m\"\u001b[39m)\n",
      "\u001b[0;31mAttributeError\u001b[0m: 'XSSDetector' object has no attribute 'predict'"
     ]
    }
   ],
   "source": [
    "# Run demonstration\n",
    "if __name__ == \"__main__\":\n",
    "    demo_detector()"
   ]
  }
 ],
 "metadata": {
  "kernelspec": {
   "display_name": "Python 3 (ipykernel)",
   "language": "python",
   "name": "python3"
  },
  "language_info": {
   "codemirror_mode": {
    "name": "ipython",
    "version": 3
   },
   "file_extension": ".py",
   "mimetype": "text/x-python",
   "name": "python",
   "nbconvert_exporter": "python",
   "pygments_lexer": "ipython3",
   "version": "3.12.3"
  }
 },
 "nbformat": 4,
 "nbformat_minor": 2
}
